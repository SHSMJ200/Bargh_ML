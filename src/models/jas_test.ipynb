{
 "cells": [
  {
   "cell_type": "code",
   "execution_count": 1,
   "outputs": [
    {
     "name": "stdout",
     "output_type": "stream",
     "text": [
      "Train Error: 1.1106081134413648%\n",
      "Test Error: 2.8997745725003723%\n"
     ]
    }
   ],
   "source": [
    "# This cell fits a random forest on data\n",
    "\n",
    "import os\n",
    "import sys\n",
    "\n",
    "import pandas as pd\n",
    "\n",
    "from data_selector import Data_selector\n",
    "from feature_selector import Feature_selector\n",
    "from logs.logger import CustomLogger\n",
    "from models import Random_Forest\n",
    "\n",
    "project_root = os.path.abspath(\"U:/ML_project/bargh/\")\n",
    "sys.path.insert(0, project_root)\n",
    "\n",
    "logger = CustomLogger(name=\"model_main\", log_file_name='model_main.log').get_logger()\n",
    "\n",
    "if __name__ == \"__main__\":\n",
    "    df = pd.read_csv(\"U:/ML_project/bargh/data/processed/integrated.csv\", encoding='utf-8')\n",
    "\n",
    "    data_selector = Data_selector(df)\n",
    "    df_modified = data_selector.select()\n",
    "\n",
    "    feature_selector = Feature_selector(df_modified, \"generation\")\n",
    "    feature_to_be_dropped = ['id', 'hour', 'date', 'status', 'declare']\n",
    "    X, y = feature_selector.select(feature_to_be_dropped)\n",
    "\n",
    "    n_est = 100\n",
    "    depth = 37\n",
    "    model = Random_Forest()\n",
    "    model.scale_and_split_data(X, y)\n",
    "    model.fit(n_estimators=n_est, max_depth=depth)\n",
    "    mse_train_actual, mse_test_actual = model.compute_mse_error()\n",
    "    print(f\"Train Error: {mse_train_actual}%\")\n",
    "    print(f\"Test Error: {mse_test_actual}%\")\n"
   ],
   "metadata": {
    "collapsed": false,
    "ExecuteTime": {
     "end_time": "2025-08-16T12:06:50.509408900Z",
     "start_time": "2025-08-16T12:04:21.273501700Z"
    }
   },
   "id": "756b96513e0197a8"
  },
  {
   "cell_type": "code",
   "execution_count": 2,
   "outputs": [],
   "source": [
    "    # This Cell adds model estimate as a column of Data\n",
    "    \n",
    "    df2 = pd.read_csv(\"U:/ML_project/bargh/data/processed/integrated.csv\", encoding='utf-8')\n",
    "    df2.loc[~df2['status'].isin(['SO', 'LF1']), 'status'] = 'SO'\n",
    "    df2.loc[~df2['value'].isin(['P']), 'value'] = 'P'\n",
    "    df2.drop(columns=feature_to_be_dropped, axis=1, inplace=True)\n",
    "\n",
    "    categorical_cols = df2.select_dtypes(include=['object', 'category']).columns\n",
    "    df2 = pd.get_dummies(df2, columns=categorical_cols, drop_first=True)\n",
    "\n",
    "    X_all = df2.drop(columns=[\"generation\"])\n",
    "    y_all = df2[\"generation\"]\n",
    "\n",
    "    y_pred = model.pred(X_all)\n",
    "    df3 = pd.read_csv(\"U:/ML_project/bargh/data/processed/integrated.csv\", encoding='utf-8')\n",
    "    df3['prediction'] = y_pred\n",
    "    df3.to_csv('U:/ML_project/bargh/data/processed/with_prediction.csv', index=False)"
   ],
   "metadata": {
    "collapsed": false,
    "ExecuteTime": {
     "end_time": "2025-08-16T12:07:55.907160400Z",
     "start_time": "2025-08-16T12:06:53.598986600Z"
    }
   },
   "id": "c3213a1691720860"
  },
  {
   "cell_type": "code",
   "execution_count": null,
   "outputs": [],
   "source": [],
   "metadata": {
    "collapsed": false
   },
   "id": "3f265e192ad5d847"
  }
 ],
 "metadata": {
  "kernelspec": {
   "display_name": "Python 3",
   "language": "python",
   "name": "python3"
  },
  "language_info": {
   "codemirror_mode": {
    "name": "ipython",
    "version": 2
   },
   "file_extension": ".py",
   "mimetype": "text/x-python",
   "name": "python",
   "nbconvert_exporter": "python",
   "pygments_lexer": "ipython2",
   "version": "2.7.6"
  }
 },
 "nbformat": 4,
 "nbformat_minor": 5
}
