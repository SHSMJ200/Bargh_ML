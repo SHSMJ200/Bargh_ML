{
 "cells": [
  {
   "cell_type": "code",
   "execution_count": null,
   "outputs": [],
   "source": [
    "  # This Cell adds model estimate as a column of Data\n",
    "model = None\n",
    "df2 = pd.read_csv(\"U:/ML_project/bargh/data/processed/integrated.csv\", encoding='utf-8')\n",
    "df2.loc[~df2['status'].isin(['SO', 'LF1']), 'status'] = 'SO'\n",
    "df2.loc[~df2['value'].isin(['P']), 'value'] = 'P'\n",
    "df2.drop(columns=feature_to_be_dropped, axis=1, inplace=True)\n",
    "\n",
    "categorical_cols = df2.select_dtypes(include=['object', 'category']).columns\n",
    "df2 = pd.get_dummies(df2, columns=categorical_cols, drop_first=True)\n",
    "\n",
    "X_all = df2.drop(columns=[\"generation\"])\n",
    "y_all = df2[\"generation\"]\n",
    "\n",
    "y_pred = model.pred(X_all)\n",
    "df3 = pd.read_csv(\"U:/ML_project/bargh/data/processed/integrated.csv\", encoding='utf-8')\n",
    "df3['prediction'] = y_pred\n",
    "df3.to_csv('U:/ML_project/bargh/data/processed/with_prediction.csv', index=False)"
   ],
   "metadata": {
    "collapsed": false
   },
   "id": "ca9a2bcd3a7e60fc"
  },
  {
   "cell_type": "code",
   "execution_count": null,
   "outputs": [],
   "source": [
    "import sys, os\n",
    "\n",
    "project_root = \"U:/ML_project/bargh\"\n",
    "sys.path.insert(0, project_root)\n",
    "\n",
    "import pandas as pd\n",
    "from data_selector import Data_selector\n",
    "from feature_modifier import Feature_selector, Feature_adder\n",
    "from logs.logger import CustomLogger\n",
    "from models import Random_Forest, Linear, Polynomial, XGBoost\n",
    "\n",
    "logger = CustomLogger(name=\"model_main\", log_file_name='model_main.log').get_logger()\n",
    "\n",
    "if __name__ == \"__main__\":\n",
    "    csv_path = os.path.join(project_root, \"data\", \"processed\", \"integrated.csv\")\n",
    "df = pd.read_csv(csv_path, encoding='utf-8')\n",
    "logger.info(f\"Csv file has bean read successfully\")\n",
    "\n",
    "feature_adder = Feature_adder(df)\n",
    "feature_adder.add_season()\n",
    "feature_adder.create_feature_with_delay(\"temperature\", 1)\n",
    "feature_adder.create_feature_with_delay(\"temperature\", 2)\n",
    "feature_adder.create_feature_with_delay(\"temperature\", 3)\n",
    "feature_adder.create_feature_with_delay(\"generation\", 1)\n",
    "feature_adder.create_feature_with_delay(\"generation\", 2)\n",
    "feature_adder.create_feature_with_delay(\"generation\", 3)\n",
    "feature_adder.create_feature_with_delay(\"generation\", 24)\n",
    "\n",
    "logger.info(f\"Some features have been added successfully\")\n",
    "\n",
    "data_selector = Data_selector(feature_adder.df)\n",
    "df_modified = data_selector.select(m_in_summer=True)\n",
    "logger.info(f\"Rows have been selected successfully\")\n",
    "feature_selector = Feature_selector(df_modified, \"generation\")\n",
    "feature_to_be_dropped = ['id', 'date', 'declare', 'require']\n",
    "X, y = feature_selector.select(feature_to_be_dropped)\n",
    "logger.info(f\"Some features have been dropped successfully\")\n",
    "\n"
   ],
   "metadata": {
    "collapsed": false
   },
   "id": "8e08e2618cfb0dc"
  },
  {
   "cell_type": "code",
   "execution_count": null,
   "outputs": [],
   "source": [
    "    import seaborn as sns\n",
    "import matplotlib.pyplot as plt\n",
    "\n",
    "df_numeric = df_modified.select_dtypes(include=['number'])\n",
    "correlation_matrix = df_numeric.corr()"
   ],
   "metadata": {
    "collapsed": false
   },
   "id": "99bbc1d684b4659d"
  },
  {
   "cell_type": "code",
   "execution_count": null,
   "outputs": [],
   "source": [
    "    plt.figure(figsize=(16, 12))\n",
    "sns.heatmap(correlation_matrix, annot=True, cmap='coolwarm')\n",
    "plt.show()"
   ],
   "metadata": {
    "collapsed": false
   },
   "id": "bb3327121e007ec6"
  },
  {
   "cell_type": "code",
   "execution_count": null,
   "outputs": [],
   "source": [
    "    # Check features importance:\n",
    "\n",
    "from models import XGBoost\n",
    "import xgboost as xgb\n",
    "import shap\n",
    "\n",
    "xgb_model = XGBoost()\n",
    "xgb_model.scale_and_split_data(X, y)\n",
    "\n",
    "model = xgb.XGBRegressor(objective='reg:squarederror', n_estimators=100, learning_rate=0.1, max_depth=3)\n",
    "model.fit(xgb_model.X_train, xgb_model.y_train)\n",
    "xgb_model.model = model\n",
    "\n",
    "columns = list(feature_selector.df.columns)\n",
    "columns.remove(\"generation\")\n",
    "X_test_df = pd.DataFrame(xgb_model.X_test, columns=columns)\n",
    "\n",
    "explainer = shap.Explainer(model)\n",
    "\n",
    "shap_values = explainer(X_test_df)\n",
    "\n",
    "shap.summary_plot(shap_values, X_test_df, max_display=60)\n"
   ],
   "metadata": {
    "collapsed": false
   },
   "id": "a341809fe5a65fe4"
  },
  {
   "cell_type": "code",
   "execution_count": 1,
   "outputs": [
    {
     "name": "stderr",
     "output_type": "stream",
     "text": [
      "\u001B[32m2025-08-19 14:35:59\u001B[0m - \u001B[34mmodel_main\u001B[0m - \u001B[1;30mINFO\u001B[0m - Csv file has bean read successfully\n",
      "\u001B[32m2025-08-19 14:36:02\u001B[0m - \u001B[34mmodel_main\u001B[0m - \u001B[1;30mINFO\u001B[0m - Some features have been added successfully\n",
      "\u001B[32m2025-08-19 14:36:02\u001B[0m - \u001B[34mmodel_main\u001B[0m - \u001B[1;30mINFO\u001B[0m - Rows have been selected successfully\n",
      "\u001B[32m2025-08-19 14:36:03\u001B[0m - \u001B[34mmodel_main\u001B[0m - \u001B[1;30mINFO\u001B[0m - Some features have been dropped successfully\n",
      "\u001B[32m2025-08-19 14:36:06\u001B[0m - \u001B[34mmodel_main\u001B[0m - \u001B[1;30mINFO\u001B[0m - Model has been trained successfully\n"
     ]
    },
    {
     "name": "stdout",
     "output_type": "stream",
     "text": [
      "Train Error: 7.42%, Test Error: 7.55%\n"
     ]
    }
   ],
   "source": [
    "import sys, os\n",
    "\n",
    "project_root = \"U:/ML_project/bargh\"\n",
    "sys.path.insert(0, project_root)\n",
    "\n",
    "import pandas as pd\n",
    "from data_selector import Data_selector\n",
    "from feature_modifier import Feature_selector, Feature_adder\n",
    "from logs.logger import CustomLogger\n",
    "from models import Random_Forest, Linear, Polynomial, XGBoost\n",
    "\n",
    "logger = CustomLogger(name=\"model_main\", log_file_name='model_main.log').get_logger()\n",
    "\n",
    "if __name__ == \"__main__\":\n",
    "    csv_path = os.path.join(project_root, \"data\", \"processed\", \"integrated.csv\")\n",
    "df = pd.read_csv(csv_path, encoding='utf-8')\n",
    "logger.info(f\"Csv file has bean read successfully\")\n",
    "\n",
    "feature_adder = Feature_adder(df)\n",
    "feature_adder.add_season()\n",
    "feature_adder.create_feature_with_delay(\"temperature\", 3)\n",
    "feature_adder.create_feature_with_delay(\"generation\", 24)\n",
    "logger.info(f\"Some features have been added successfully\")\n",
    "\n",
    "data_selector = Data_selector(feature_adder.df)\n",
    "df_modified = data_selector.select(m_in_summer=True)\n",
    "logger.info(f\"Rows have been selected successfully\")\n",
    "\n",
    "feature_selector = Feature_selector(df_modified, \"generation\")\n",
    "feature_to_be_dropped = ['id', 'date', 'declare', 'require']\n",
    "less_important_feature = ['dew', 'apparent_temperature', 'precipitation', 'rain', 'snow',\n",
    "                          'evapotransporation', 'wind_speed', 'wind_direction']\n",
    "X, y = feature_selector.select(feature_to_be_dropped + less_important_feature)\n",
    "logger.info(f\"Some features have been dropped successfully\")\n",
    "\n",
    "# n_est = 100\n",
    "# depth = 30\n",
    "# model = Random_Forest()\n",
    "# model.scale_and_split_data(X, y)\n",
    "# model.fit(n_estimators=n_est, max_depth=depth)\n",
    "\n",
    "# model = Linear()\n",
    "# model.scale_and_split_data(X, y)\n",
    "# model.fit()\n",
    "\n",
    "# model = Polynomial()\n",
    "# model.scale_and_split_data(X, y)\n",
    "# model.fit()\n",
    "\n",
    "n_est = 100\n",
    "depth = 5\n",
    "model = XGBoost()\n",
    "model.scale_and_split_data(X, y)\n",
    "model.fit(n_estimators=n_est, max_depth=depth)\n",
    "\n",
    "logger.info(f\"Model has been trained successfully\")\n",
    "\n",
    "rmse_error_train, rmse_error_test = model.compute_rmse_error()\n",
    "print(f\"Train Error: {rmse_error_train:0.2f}%, Test Error: {rmse_error_test:0.2f}%\")\n"
   ],
   "metadata": {
    "collapsed": false,
    "ExecuteTime": {
     "end_time": "2025-08-19T11:06:06.164494500Z",
     "start_time": "2025-08-19T11:05:55.147941700Z"
    }
   },
   "id": "de6fe45733fdf903"
  },
  {
   "cell_type": "code",
   "execution_count": 2,
   "outputs": [],
   "source": [
    "project_root = \"U:/ML_project/bargh\"\n",
    "csv_path = os.path.join(project_root, \"data\", \"processed\", \"integrated.csv\")\n",
    "df = pd.read_csv(csv_path, encoding='utf-8')\n",
    "df['date'] = pd.to_datetime(df['date'])\n",
    "df['datetime'] = df['date'] + pd.to_timedelta(df['hour'], unit='h')\n",
    "df = df.sort_values(by=['code', 'name', 'date', 'hour'])\n",
    "\n",
    "feature_to_be_dropped = ['id', 'date', 'declare', 'require', 'datetime']\n",
    "less_important_feature = ['dew', 'apparent_temperature', 'precipitation', 'rain', 'snow',\n",
    "                          'evapotransporation', 'wind_speed', 'wind_direction']\n",
    "\n",
    "df = df.drop(feature_to_be_dropped + less_important_feature, axis=1)\n",
    "\n",
    "n_rows = 24\n",
    "n_cols = df.shape[1]\n",
    "\n",
    "arr = df.to_numpy()\n",
    "\n",
    "new_rows = df.shape[0] // n_rows\n",
    "\n",
    "reshaped = arr[:new_rows * n_rows].reshape(new_rows, n_rows * n_cols)\n",
    "\n",
    "new_columns = []\n",
    "for i in range(n_rows):\n",
    "    for col in df.columns:\n",
    "        new_columns.append(f\"{col}_{i+1}\")\n",
    "\n",
    "new_df = pd.DataFrame(reshaped, columns=new_columns)"
   ],
   "metadata": {
    "collapsed": false,
    "ExecuteTime": {
     "end_time": "2025-08-19T11:06:10.930758300Z",
     "start_time": "2025-08-19T11:06:07.158675700Z"
    }
   },
   "id": "688f3e3089394054"
  },
  {
   "cell_type": "code",
   "execution_count": 3,
   "outputs": [],
   "source": [
    "to_be_dropped_columns = []\n",
    "for col in ['name', 'code', 'hour']:\n",
    "    for i in range(24):\n",
    "        col_name = f\"{col}_{i+1}\"\n",
    "        if col_name in ['name_1', 'code_1']: continue\n",
    "        to_be_dropped_columns.append(col_name)\n",
    "        \n",
    "common_deleted_df = new_df.drop(to_be_dropped_columns, axis=1)\n",
    "\n",
    "categorical_cols = ['name_1', 'code_1'] + [f'value_{i+1}' for i in range(24)] + [f'status_{i+1}' for i in range(24)]\n",
    "final_df = pd.get_dummies(common_deleted_df, columns=categorical_cols, drop_first=True)\n",
    "\n",
    "final_df = final_df.dropna()\n"
   ],
   "metadata": {
    "collapsed": false,
    "ExecuteTime": {
     "end_time": "2025-08-19T11:06:13.010265Z",
     "start_time": "2025-08-19T11:06:11.694969800Z"
    }
   },
   "id": "a30eacf63e604c45"
  },
  {
   "cell_type": "code",
   "execution_count": 4,
   "outputs": [
    {
     "data": {
      "text/plain": "1376"
     },
     "execution_count": 4,
     "metadata": {},
     "output_type": "execute_result"
    }
   ],
   "source": [
    "len(final_df.columns)"
   ],
   "metadata": {
    "collapsed": false,
    "ExecuteTime": {
     "end_time": "2025-08-19T11:06:13.749028600Z",
     "start_time": "2025-08-19T11:06:13.715317200Z"
    }
   },
   "id": "3257f9355ee471a"
  },
  {
   "cell_type": "code",
   "execution_count": 5,
   "outputs": [],
   "source": [
    "generation_columns = [f\"generation_{i+1}\" for i in range(24)]\n",
    "X = final_df.drop(columns=generation_columns)\n",
    "y = final_df[generation_columns]\n",
    "        "
   ],
   "metadata": {
    "collapsed": false,
    "ExecuteTime": {
     "end_time": "2025-08-19T11:06:17.453734200Z",
     "start_time": "2025-08-19T11:06:17.348554800Z"
    }
   },
   "id": "2983c5eb9eda588e"
  },
  {
   "cell_type": "code",
   "execution_count": 11,
   "outputs": [
    {
     "data": {
      "text/plain": "(34728, 1352)"
     },
     "execution_count": 11,
     "metadata": {},
     "output_type": "execute_result"
    }
   ],
   "source": [
    "X.shape"
   ],
   "metadata": {
    "collapsed": false,
    "ExecuteTime": {
     "end_time": "2025-08-19T11:06:55.476933Z",
     "start_time": "2025-08-19T11:06:55.460229300Z"
    }
   },
   "id": "ff8a8bbdf714b919"
  },
  {
   "cell_type": "code",
   "execution_count": 12,
   "outputs": [],
   "source": [
    "from models import Model\n",
    "group_model = Model()\n",
    "group_model.scale_and_split_data(X, y, y_is_flat=False)"
   ],
   "metadata": {
    "collapsed": false,
    "ExecuteTime": {
     "end_time": "2025-08-19T11:07:31.887402900Z",
     "start_time": "2025-08-19T11:07:29.315790800Z"
    }
   },
   "id": "d91c27bf9ab12557"
  },
  {
   "cell_type": "code",
   "execution_count": 15,
   "outputs": [
    {
     "data": {
      "text/plain": "MultiOutputRegressor(estimator=XGBRegressor(base_score=None, booster=None,\n                                            callbacks=None,\n                                            colsample_bylevel=None,\n                                            colsample_bynode=None,\n                                            colsample_bytree=None, device=None,\n                                            early_stopping_rounds=None,\n                                            enable_categorical=False,\n                                            eval_metric=None,\n                                            feature_types=None,\n                                            feature_weights=None, gamma=None,\n                                            grow_policy=None,\n                                            importance_type=None,\n                                            interaction_constraints=None,\n                                            learning_rate=0.1, max_bin=None,\n                                            max_cat_threshold=None,\n                                            max_cat_to_onehot=None,\n                                            max_delta_step=None, max_depth=10,\n                                            max_leaves=None,\n                                            min_child_weight=None, missing=nan,\n                                            monotone_constraints=None,\n                                            multi_strategy=None,\n                                            n_estimators=1000, n_jobs=None,\n                                            num_parallel_tree=None, ...))",
      "text/html": "<style>#sk-container-id-2 {\n  /* Definition of color scheme common for light and dark mode */\n  --sklearn-color-text: #000;\n  --sklearn-color-text-muted: #666;\n  --sklearn-color-line: gray;\n  /* Definition of color scheme for unfitted estimators */\n  --sklearn-color-unfitted-level-0: #fff5e6;\n  --sklearn-color-unfitted-level-1: #f6e4d2;\n  --sklearn-color-unfitted-level-2: #ffe0b3;\n  --sklearn-color-unfitted-level-3: chocolate;\n  /* Definition of color scheme for fitted estimators */\n  --sklearn-color-fitted-level-0: #f0f8ff;\n  --sklearn-color-fitted-level-1: #d4ebff;\n  --sklearn-color-fitted-level-2: #b3dbfd;\n  --sklearn-color-fitted-level-3: cornflowerblue;\n\n  /* Specific color for light theme */\n  --sklearn-color-text-on-default-background: var(--sg-text-color, var(--theme-code-foreground, var(--jp-content-font-color1, black)));\n  --sklearn-color-background: var(--sg-background-color, var(--theme-background, var(--jp-layout-color0, white)));\n  --sklearn-color-border-box: var(--sg-text-color, var(--theme-code-foreground, var(--jp-content-font-color1, black)));\n  --sklearn-color-icon: #696969;\n\n  @media (prefers-color-scheme: dark) {\n    /* Redefinition of color scheme for dark theme */\n    --sklearn-color-text-on-default-background: var(--sg-text-color, var(--theme-code-foreground, var(--jp-content-font-color1, white)));\n    --sklearn-color-background: var(--sg-background-color, var(--theme-background, var(--jp-layout-color0, #111)));\n    --sklearn-color-border-box: var(--sg-text-color, var(--theme-code-foreground, var(--jp-content-font-color1, white)));\n    --sklearn-color-icon: #878787;\n  }\n}\n\n#sk-container-id-2 {\n  color: var(--sklearn-color-text);\n}\n\n#sk-container-id-2 pre {\n  padding: 0;\n}\n\n#sk-container-id-2 input.sk-hidden--visually {\n  border: 0;\n  clip: rect(1px 1px 1px 1px);\n  clip: rect(1px, 1px, 1px, 1px);\n  height: 1px;\n  margin: -1px;\n  overflow: hidden;\n  padding: 0;\n  position: absolute;\n  width: 1px;\n}\n\n#sk-container-id-2 div.sk-dashed-wrapped {\n  border: 1px dashed var(--sklearn-color-line);\n  margin: 0 0.4em 0.5em 0.4em;\n  box-sizing: border-box;\n  padding-bottom: 0.4em;\n  background-color: var(--sklearn-color-background);\n}\n\n#sk-container-id-2 div.sk-container {\n  /* jupyter's `normalize.less` sets `[hidden] { display: none; }`\n     but bootstrap.min.css set `[hidden] { display: none !important; }`\n     so we also need the `!important` here to be able to override the\n     default hidden behavior on the sphinx rendered scikit-learn.org.\n     See: https://github.com/scikit-learn/scikit-learn/issues/21755 */\n  display: inline-block !important;\n  position: relative;\n}\n\n#sk-container-id-2 div.sk-text-repr-fallback {\n  display: none;\n}\n\ndiv.sk-parallel-item,\ndiv.sk-serial,\ndiv.sk-item {\n  /* draw centered vertical line to link estimators */\n  background-image: linear-gradient(var(--sklearn-color-text-on-default-background), var(--sklearn-color-text-on-default-background));\n  background-size: 2px 100%;\n  background-repeat: no-repeat;\n  background-position: center center;\n}\n\n/* Parallel-specific style estimator block */\n\n#sk-container-id-2 div.sk-parallel-item::after {\n  content: \"\";\n  width: 100%;\n  border-bottom: 2px solid var(--sklearn-color-text-on-default-background);\n  flex-grow: 1;\n}\n\n#sk-container-id-2 div.sk-parallel {\n  display: flex;\n  align-items: stretch;\n  justify-content: center;\n  background-color: var(--sklearn-color-background);\n  position: relative;\n}\n\n#sk-container-id-2 div.sk-parallel-item {\n  display: flex;\n  flex-direction: column;\n}\n\n#sk-container-id-2 div.sk-parallel-item:first-child::after {\n  align-self: flex-end;\n  width: 50%;\n}\n\n#sk-container-id-2 div.sk-parallel-item:last-child::after {\n  align-self: flex-start;\n  width: 50%;\n}\n\n#sk-container-id-2 div.sk-parallel-item:only-child::after {\n  width: 0;\n}\n\n/* Serial-specific style estimator block */\n\n#sk-container-id-2 div.sk-serial {\n  display: flex;\n  flex-direction: column;\n  align-items: center;\n  background-color: var(--sklearn-color-background);\n  padding-right: 1em;\n  padding-left: 1em;\n}\n\n\n/* Toggleable style: style used for estimator/Pipeline/ColumnTransformer box that is\nclickable and can be expanded/collapsed.\n- Pipeline and ColumnTransformer use this feature and define the default style\n- Estimators will overwrite some part of the style using the `sk-estimator` class\n*/\n\n/* Pipeline and ColumnTransformer style (default) */\n\n#sk-container-id-2 div.sk-toggleable {\n  /* Default theme specific background. It is overwritten whether we have a\n  specific estimator or a Pipeline/ColumnTransformer */\n  background-color: var(--sklearn-color-background);\n}\n\n/* Toggleable label */\n#sk-container-id-2 label.sk-toggleable__label {\n  cursor: pointer;\n  display: flex;\n  width: 100%;\n  margin-bottom: 0;\n  padding: 0.5em;\n  box-sizing: border-box;\n  text-align: center;\n  align-items: start;\n  justify-content: space-between;\n  gap: 0.5em;\n}\n\n#sk-container-id-2 label.sk-toggleable__label .caption {\n  font-size: 0.6rem;\n  font-weight: lighter;\n  color: var(--sklearn-color-text-muted);\n}\n\n#sk-container-id-2 label.sk-toggleable__label-arrow:before {\n  /* Arrow on the left of the label */\n  content: \"▸\";\n  float: left;\n  margin-right: 0.25em;\n  color: var(--sklearn-color-icon);\n}\n\n#sk-container-id-2 label.sk-toggleable__label-arrow:hover:before {\n  color: var(--sklearn-color-text);\n}\n\n/* Toggleable content - dropdown */\n\n#sk-container-id-2 div.sk-toggleable__content {\n  display: none;\n  text-align: left;\n  /* unfitted */\n  background-color: var(--sklearn-color-unfitted-level-0);\n}\n\n#sk-container-id-2 div.sk-toggleable__content.fitted {\n  /* fitted */\n  background-color: var(--sklearn-color-fitted-level-0);\n}\n\n#sk-container-id-2 div.sk-toggleable__content pre {\n  margin: 0.2em;\n  border-radius: 0.25em;\n  color: var(--sklearn-color-text);\n  /* unfitted */\n  background-color: var(--sklearn-color-unfitted-level-0);\n}\n\n#sk-container-id-2 div.sk-toggleable__content.fitted pre {\n  /* unfitted */\n  background-color: var(--sklearn-color-fitted-level-0);\n}\n\n#sk-container-id-2 input.sk-toggleable__control:checked~div.sk-toggleable__content {\n  /* Expand drop-down */\n  display: block;\n  width: 100%;\n  overflow: visible;\n}\n\n#sk-container-id-2 input.sk-toggleable__control:checked~label.sk-toggleable__label-arrow:before {\n  content: \"▾\";\n}\n\n/* Pipeline/ColumnTransformer-specific style */\n\n#sk-container-id-2 div.sk-label input.sk-toggleable__control:checked~label.sk-toggleable__label {\n  color: var(--sklearn-color-text);\n  background-color: var(--sklearn-color-unfitted-level-2);\n}\n\n#sk-container-id-2 div.sk-label.fitted input.sk-toggleable__control:checked~label.sk-toggleable__label {\n  background-color: var(--sklearn-color-fitted-level-2);\n}\n\n/* Estimator-specific style */\n\n/* Colorize estimator box */\n#sk-container-id-2 div.sk-estimator input.sk-toggleable__control:checked~label.sk-toggleable__label {\n  /* unfitted */\n  background-color: var(--sklearn-color-unfitted-level-2);\n}\n\n#sk-container-id-2 div.sk-estimator.fitted input.sk-toggleable__control:checked~label.sk-toggleable__label {\n  /* fitted */\n  background-color: var(--sklearn-color-fitted-level-2);\n}\n\n#sk-container-id-2 div.sk-label label.sk-toggleable__label,\n#sk-container-id-2 div.sk-label label {\n  /* The background is the default theme color */\n  color: var(--sklearn-color-text-on-default-background);\n}\n\n/* On hover, darken the color of the background */\n#sk-container-id-2 div.sk-label:hover label.sk-toggleable__label {\n  color: var(--sklearn-color-text);\n  background-color: var(--sklearn-color-unfitted-level-2);\n}\n\n/* Label box, darken color on hover, fitted */\n#sk-container-id-2 div.sk-label.fitted:hover label.sk-toggleable__label.fitted {\n  color: var(--sklearn-color-text);\n  background-color: var(--sklearn-color-fitted-level-2);\n}\n\n/* Estimator label */\n\n#sk-container-id-2 div.sk-label label {\n  font-family: monospace;\n  font-weight: bold;\n  display: inline-block;\n  line-height: 1.2em;\n}\n\n#sk-container-id-2 div.sk-label-container {\n  text-align: center;\n}\n\n/* Estimator-specific */\n#sk-container-id-2 div.sk-estimator {\n  font-family: monospace;\n  border: 1px dotted var(--sklearn-color-border-box);\n  border-radius: 0.25em;\n  box-sizing: border-box;\n  margin-bottom: 0.5em;\n  /* unfitted */\n  background-color: var(--sklearn-color-unfitted-level-0);\n}\n\n#sk-container-id-2 div.sk-estimator.fitted {\n  /* fitted */\n  background-color: var(--sklearn-color-fitted-level-0);\n}\n\n/* on hover */\n#sk-container-id-2 div.sk-estimator:hover {\n  /* unfitted */\n  background-color: var(--sklearn-color-unfitted-level-2);\n}\n\n#sk-container-id-2 div.sk-estimator.fitted:hover {\n  /* fitted */\n  background-color: var(--sklearn-color-fitted-level-2);\n}\n\n/* Specification for estimator info (e.g. \"i\" and \"?\") */\n\n/* Common style for \"i\" and \"?\" */\n\n.sk-estimator-doc-link,\na:link.sk-estimator-doc-link,\na:visited.sk-estimator-doc-link {\n  float: right;\n  font-size: smaller;\n  line-height: 1em;\n  font-family: monospace;\n  background-color: var(--sklearn-color-background);\n  border-radius: 1em;\n  height: 1em;\n  width: 1em;\n  text-decoration: none !important;\n  margin-left: 0.5em;\n  text-align: center;\n  /* unfitted */\n  border: var(--sklearn-color-unfitted-level-1) 1pt solid;\n  color: var(--sklearn-color-unfitted-level-1);\n}\n\n.sk-estimator-doc-link.fitted,\na:link.sk-estimator-doc-link.fitted,\na:visited.sk-estimator-doc-link.fitted {\n  /* fitted */\n  border: var(--sklearn-color-fitted-level-1) 1pt solid;\n  color: var(--sklearn-color-fitted-level-1);\n}\n\n/* On hover */\ndiv.sk-estimator:hover .sk-estimator-doc-link:hover,\n.sk-estimator-doc-link:hover,\ndiv.sk-label-container:hover .sk-estimator-doc-link:hover,\n.sk-estimator-doc-link:hover {\n  /* unfitted */\n  background-color: var(--sklearn-color-unfitted-level-3);\n  color: var(--sklearn-color-background);\n  text-decoration: none;\n}\n\ndiv.sk-estimator.fitted:hover .sk-estimator-doc-link.fitted:hover,\n.sk-estimator-doc-link.fitted:hover,\ndiv.sk-label-container:hover .sk-estimator-doc-link.fitted:hover,\n.sk-estimator-doc-link.fitted:hover {\n  /* fitted */\n  background-color: var(--sklearn-color-fitted-level-3);\n  color: var(--sklearn-color-background);\n  text-decoration: none;\n}\n\n/* Span, style for the box shown on hovering the info icon */\n.sk-estimator-doc-link span {\n  display: none;\n  z-index: 9999;\n  position: relative;\n  font-weight: normal;\n  right: .2ex;\n  padding: .5ex;\n  margin: .5ex;\n  width: min-content;\n  min-width: 20ex;\n  max-width: 50ex;\n  color: var(--sklearn-color-text);\n  box-shadow: 2pt 2pt 4pt #999;\n  /* unfitted */\n  background: var(--sklearn-color-unfitted-level-0);\n  border: .5pt solid var(--sklearn-color-unfitted-level-3);\n}\n\n.sk-estimator-doc-link.fitted span {\n  /* fitted */\n  background: var(--sklearn-color-fitted-level-0);\n  border: var(--sklearn-color-fitted-level-3);\n}\n\n.sk-estimator-doc-link:hover span {\n  display: block;\n}\n\n/* \"?\"-specific style due to the `<a>` HTML tag */\n\n#sk-container-id-2 a.estimator_doc_link {\n  float: right;\n  font-size: 1rem;\n  line-height: 1em;\n  font-family: monospace;\n  background-color: var(--sklearn-color-background);\n  border-radius: 1rem;\n  height: 1rem;\n  width: 1rem;\n  text-decoration: none;\n  /* unfitted */\n  color: var(--sklearn-color-unfitted-level-1);\n  border: var(--sklearn-color-unfitted-level-1) 1pt solid;\n}\n\n#sk-container-id-2 a.estimator_doc_link.fitted {\n  /* fitted */\n  border: var(--sklearn-color-fitted-level-1) 1pt solid;\n  color: var(--sklearn-color-fitted-level-1);\n}\n\n/* On hover */\n#sk-container-id-2 a.estimator_doc_link:hover {\n  /* unfitted */\n  background-color: var(--sklearn-color-unfitted-level-3);\n  color: var(--sklearn-color-background);\n  text-decoration: none;\n}\n\n#sk-container-id-2 a.estimator_doc_link.fitted:hover {\n  /* fitted */\n  background-color: var(--sklearn-color-fitted-level-3);\n}\n\n.estimator-table summary {\n    padding: .5rem;\n    font-family: monospace;\n    cursor: pointer;\n}\n\n.estimator-table details[open] {\n    padding-left: 0.1rem;\n    padding-right: 0.1rem;\n    padding-bottom: 0.3rem;\n}\n\n.estimator-table .parameters-table {\n    margin-left: auto !important;\n    margin-right: auto !important;\n}\n\n.estimator-table .parameters-table tr:nth-child(odd) {\n    background-color: #fff;\n}\n\n.estimator-table .parameters-table tr:nth-child(even) {\n    background-color: #f6f6f6;\n}\n\n.estimator-table .parameters-table tr:hover {\n    background-color: #e0e0e0;\n}\n\n.estimator-table table td {\n    border: 1px solid rgba(106, 105, 104, 0.232);\n}\n\n.user-set td {\n    color:rgb(255, 94, 0);\n    text-align: left;\n}\n\n.user-set td.value pre {\n    color:rgb(255, 94, 0) !important;\n    background-color: transparent !important;\n}\n\n.default td {\n    color: black;\n    text-align: left;\n}\n\n.user-set td i,\n.default td i {\n    color: black;\n}\n\n.copy-paste-icon {\n    background-image: url(data:image/svg+xml;base64,PHN2ZyB4bWxucz0iaHR0cDovL3d3dy53My5vcmcvMjAwMC9zdmciIHZpZXdCb3g9IjAgMCA0NDggNTEyIj48IS0tIUZvbnQgQXdlc29tZSBGcmVlIDYuNy4yIGJ5IEBmb250YXdlc29tZSAtIGh0dHBzOi8vZm9udGF3ZXNvbWUuY29tIExpY2Vuc2UgLSBodHRwczovL2ZvbnRhd2Vzb21lLmNvbS9saWNlbnNlL2ZyZWUgQ29weXJpZ2h0IDIwMjUgRm9udGljb25zLCBJbmMuLS0+PHBhdGggZD0iTTIwOCAwTDMzMi4xIDBjMTIuNyAwIDI0LjkgNS4xIDMzLjkgMTQuMWw2Ny45IDY3LjljOSA5IDE0LjEgMjEuMiAxNC4xIDMzLjlMNDQ4IDMzNmMwIDI2LjUtMjEuNSA0OC00OCA0OGwtMTkyIDBjLTI2LjUgMC00OC0yMS41LTQ4LTQ4bDAtMjg4YzAtMjYuNSAyMS41LTQ4IDQ4LTQ4ek00OCAxMjhsODAgMCAwIDY0LTY0IDAgMCAyNTYgMTkyIDAgMC0zMiA2NCAwIDAgNDhjMCAyNi41LTIxLjUgNDgtNDggNDhMNDggNTEyYy0yNi41IDAtNDgtMjEuNS00OC00OEwwIDE3NmMwLTI2LjUgMjEuNS00OCA0OC00OHoiLz48L3N2Zz4=);\n    background-repeat: no-repeat;\n    background-size: 14px 14px;\n    background-position: 0;\n    display: inline-block;\n    width: 14px;\n    height: 14px;\n    cursor: pointer;\n}\n</style><body><div id=\"sk-container-id-2\" class=\"sk-top-container\"><div class=\"sk-text-repr-fallback\"><pre>MultiOutputRegressor(estimator=XGBRegressor(base_score=None, booster=None,\n                                            callbacks=None,\n                                            colsample_bylevel=None,\n                                            colsample_bynode=None,\n                                            colsample_bytree=None, device=None,\n                                            early_stopping_rounds=None,\n                                            enable_categorical=False,\n                                            eval_metric=None,\n                                            feature_types=None,\n                                            feature_weights=None, gamma=None,\n                                            grow_policy=None,\n                                            importance_type=None,\n                                            interaction_constraints=None,\n                                            learning_rate=0.1, max_bin=None,\n                                            max_cat_threshold=None,\n                                            max_cat_to_onehot=None,\n                                            max_delta_step=None, max_depth=10,\n                                            max_leaves=None,\n                                            min_child_weight=None, missing=nan,\n                                            monotone_constraints=None,\n                                            multi_strategy=None,\n                                            n_estimators=1000, n_jobs=None,\n                                            num_parallel_tree=None, ...))</pre><b>In a Jupyter environment, please rerun this cell to show the HTML representation or trust the notebook. <br />On GitHub, the HTML representation is unable to render, please try loading this page with nbviewer.org.</b></div><div class=\"sk-container\" hidden><div class=\"sk-item sk-dashed-wrapped\"><div class=\"sk-label-container\"><div class=\"sk-label fitted sk-toggleable\"><input class=\"sk-toggleable__control sk-hidden--visually\" id=\"sk-estimator-id-4\" type=\"checkbox\" ><label for=\"sk-estimator-id-4\" class=\"sk-toggleable__label fitted sk-toggleable__label-arrow\"><div><div>MultiOutputRegressor</div></div><div><a class=\"sk-estimator-doc-link fitted\" rel=\"noreferrer\" target=\"_blank\" href=\"https://scikit-learn.org/1.7/modules/generated/sklearn.multioutput.MultiOutputRegressor.html\">?<span>Documentation for MultiOutputRegressor</span></a><span class=\"sk-estimator-doc-link fitted\">i<span>Fitted</span></span></div></label><div class=\"sk-toggleable__content fitted\" data-param-prefix=\"\">\n        <div class=\"estimator-table\">\n            <details>\n                <summary>Parameters</summary>\n                <table class=\"parameters-table\">\n                  <tbody>\n                    \n        <tr class=\"user-set\">\n            <td><i class=\"copy-paste-icon\"\n                 onclick=\"copyToClipboard('estimator',\n                          this.parentElement.nextElementSibling)\"\n            ></i></td>\n            <td class=\"param\">estimator&nbsp;</td>\n            <td class=\"value\">XGBRegressor(...ree=None, ...)</td>\n        </tr>\n    \n\n        <tr class=\"default\">\n            <td><i class=\"copy-paste-icon\"\n                 onclick=\"copyToClipboard('n_jobs',\n                          this.parentElement.nextElementSibling)\"\n            ></i></td>\n            <td class=\"param\">n_jobs&nbsp;</td>\n            <td class=\"value\">None</td>\n        </tr>\n    \n                  </tbody>\n                </table>\n            </details>\n        </div>\n    </div></div></div><div class=\"sk-parallel\"><div class=\"sk-parallel-item\"><div class=\"sk-item\"><div class=\"sk-label-container\"><div class=\"sk-label fitted sk-toggleable\"><input class=\"sk-toggleable__control sk-hidden--visually\" id=\"sk-estimator-id-5\" type=\"checkbox\" ><label for=\"sk-estimator-id-5\" class=\"sk-toggleable__label fitted sk-toggleable__label-arrow\"><div><div>estimator: XGBRegressor</div></div></label><div class=\"sk-toggleable__content fitted\" data-param-prefix=\"estimator__\"><pre>XGBRegressor(base_score=None, booster=None, callbacks=None,\n             colsample_bylevel=None, colsample_bynode=None,\n             colsample_bytree=None, device=None, early_stopping_rounds=None,\n             enable_categorical=False, eval_metric=None, feature_types=None,\n             feature_weights=None, gamma=None, grow_policy=None,\n             importance_type=None, interaction_constraints=None,\n             learning_rate=0.1, max_bin=None, max_cat_threshold=None,\n             max_cat_to_onehot=None, max_delta_step=None, max_depth=10,\n             max_leaves=None, min_child_weight=None, missing=nan,\n             monotone_constraints=None, multi_strategy=None, n_estimators=1000,\n             n_jobs=None, num_parallel_tree=None, ...)</pre></div></div></div><div class=\"sk-serial\"><div class=\"sk-item\"><div class=\"sk-estimator fitted sk-toggleable\"><input class=\"sk-toggleable__control sk-hidden--visually\" id=\"sk-estimator-id-6\" type=\"checkbox\" ><label for=\"sk-estimator-id-6\" class=\"sk-toggleable__label fitted sk-toggleable__label-arrow\"><div><div>XGBRegressor</div></div><div><a class=\"sk-estimator-doc-link fitted\" rel=\"noreferrer\" target=\"_blank\" href=\"https://xgboost.readthedocs.io/en/release_3.0.0/python/python_api.html#xgboost.XGBRegressor\">?<span>Documentation for XGBRegressor</span></a></div></label><div class=\"sk-toggleable__content fitted\" data-param-prefix=\"estimator__\">\n        <div class=\"estimator-table\">\n            <details>\n                <summary>Parameters</summary>\n                <table class=\"parameters-table\">\n                  <tbody>\n                    \n        <tr class=\"default\">\n            <td><i class=\"copy-paste-icon\"\n                 onclick=\"copyToClipboard('objective',\n                          this.parentElement.nextElementSibling)\"\n            ></i></td>\n            <td class=\"param\">objective&nbsp;</td>\n            <td class=\"value\">&#x27;reg:squarederror&#x27;</td>\n        </tr>\n    \n\n        <tr class=\"user-set\">\n            <td><i class=\"copy-paste-icon\"\n                 onclick=\"copyToClipboard('base_score',\n                          this.parentElement.nextElementSibling)\"\n            ></i></td>\n            <td class=\"param\">base_score&nbsp;</td>\n            <td class=\"value\">None</td>\n        </tr>\n    \n\n        <tr class=\"user-set\">\n            <td><i class=\"copy-paste-icon\"\n                 onclick=\"copyToClipboard('booster',\n                          this.parentElement.nextElementSibling)\"\n            ></i></td>\n            <td class=\"param\">booster&nbsp;</td>\n            <td class=\"value\">None</td>\n        </tr>\n    \n\n        <tr class=\"user-set\">\n            <td><i class=\"copy-paste-icon\"\n                 onclick=\"copyToClipboard('callbacks',\n                          this.parentElement.nextElementSibling)\"\n            ></i></td>\n            <td class=\"param\">callbacks&nbsp;</td>\n            <td class=\"value\">None</td>\n        </tr>\n    \n\n        <tr class=\"user-set\">\n            <td><i class=\"copy-paste-icon\"\n                 onclick=\"copyToClipboard('colsample_bylevel',\n                          this.parentElement.nextElementSibling)\"\n            ></i></td>\n            <td class=\"param\">colsample_bylevel&nbsp;</td>\n            <td class=\"value\">None</td>\n        </tr>\n    \n\n        <tr class=\"user-set\">\n            <td><i class=\"copy-paste-icon\"\n                 onclick=\"copyToClipboard('colsample_bynode',\n                          this.parentElement.nextElementSibling)\"\n            ></i></td>\n            <td class=\"param\">colsample_bynode&nbsp;</td>\n            <td class=\"value\">None</td>\n        </tr>\n    \n\n        <tr class=\"user-set\">\n            <td><i class=\"copy-paste-icon\"\n                 onclick=\"copyToClipboard('colsample_bytree',\n                          this.parentElement.nextElementSibling)\"\n            ></i></td>\n            <td class=\"param\">colsample_bytree&nbsp;</td>\n            <td class=\"value\">None</td>\n        </tr>\n    \n\n        <tr class=\"user-set\">\n            <td><i class=\"copy-paste-icon\"\n                 onclick=\"copyToClipboard('device',\n                          this.parentElement.nextElementSibling)\"\n            ></i></td>\n            <td class=\"param\">device&nbsp;</td>\n            <td class=\"value\">None</td>\n        </tr>\n    \n\n        <tr class=\"user-set\">\n            <td><i class=\"copy-paste-icon\"\n                 onclick=\"copyToClipboard('early_stopping_rounds',\n                          this.parentElement.nextElementSibling)\"\n            ></i></td>\n            <td class=\"param\">early_stopping_rounds&nbsp;</td>\n            <td class=\"value\">None</td>\n        </tr>\n    \n\n        <tr class=\"user-set\">\n            <td><i class=\"copy-paste-icon\"\n                 onclick=\"copyToClipboard('enable_categorical',\n                          this.parentElement.nextElementSibling)\"\n            ></i></td>\n            <td class=\"param\">enable_categorical&nbsp;</td>\n            <td class=\"value\">False</td>\n        </tr>\n    \n\n        <tr class=\"user-set\">\n            <td><i class=\"copy-paste-icon\"\n                 onclick=\"copyToClipboard('eval_metric',\n                          this.parentElement.nextElementSibling)\"\n            ></i></td>\n            <td class=\"param\">eval_metric&nbsp;</td>\n            <td class=\"value\">None</td>\n        </tr>\n    \n\n        <tr class=\"user-set\">\n            <td><i class=\"copy-paste-icon\"\n                 onclick=\"copyToClipboard('feature_types',\n                          this.parentElement.nextElementSibling)\"\n            ></i></td>\n            <td class=\"param\">feature_types&nbsp;</td>\n            <td class=\"value\">None</td>\n        </tr>\n    \n\n        <tr class=\"user-set\">\n            <td><i class=\"copy-paste-icon\"\n                 onclick=\"copyToClipboard('feature_weights',\n                          this.parentElement.nextElementSibling)\"\n            ></i></td>\n            <td class=\"param\">feature_weights&nbsp;</td>\n            <td class=\"value\">None</td>\n        </tr>\n    \n\n        <tr class=\"user-set\">\n            <td><i class=\"copy-paste-icon\"\n                 onclick=\"copyToClipboard('gamma',\n                          this.parentElement.nextElementSibling)\"\n            ></i></td>\n            <td class=\"param\">gamma&nbsp;</td>\n            <td class=\"value\">None</td>\n        </tr>\n    \n\n        <tr class=\"user-set\">\n            <td><i class=\"copy-paste-icon\"\n                 onclick=\"copyToClipboard('grow_policy',\n                          this.parentElement.nextElementSibling)\"\n            ></i></td>\n            <td class=\"param\">grow_policy&nbsp;</td>\n            <td class=\"value\">None</td>\n        </tr>\n    \n\n        <tr class=\"user-set\">\n            <td><i class=\"copy-paste-icon\"\n                 onclick=\"copyToClipboard('importance_type',\n                          this.parentElement.nextElementSibling)\"\n            ></i></td>\n            <td class=\"param\">importance_type&nbsp;</td>\n            <td class=\"value\">None</td>\n        </tr>\n    \n\n        <tr class=\"user-set\">\n            <td><i class=\"copy-paste-icon\"\n                 onclick=\"copyToClipboard('interaction_constraints',\n                          this.parentElement.nextElementSibling)\"\n            ></i></td>\n            <td class=\"param\">interaction_constraints&nbsp;</td>\n            <td class=\"value\">None</td>\n        </tr>\n    \n\n        <tr class=\"user-set\">\n            <td><i class=\"copy-paste-icon\"\n                 onclick=\"copyToClipboard('learning_rate',\n                          this.parentElement.nextElementSibling)\"\n            ></i></td>\n            <td class=\"param\">learning_rate&nbsp;</td>\n            <td class=\"value\">0.1</td>\n        </tr>\n    \n\n        <tr class=\"user-set\">\n            <td><i class=\"copy-paste-icon\"\n                 onclick=\"copyToClipboard('max_bin',\n                          this.parentElement.nextElementSibling)\"\n            ></i></td>\n            <td class=\"param\">max_bin&nbsp;</td>\n            <td class=\"value\">None</td>\n        </tr>\n    \n\n        <tr class=\"user-set\">\n            <td><i class=\"copy-paste-icon\"\n                 onclick=\"copyToClipboard('max_cat_threshold',\n                          this.parentElement.nextElementSibling)\"\n            ></i></td>\n            <td class=\"param\">max_cat_threshold&nbsp;</td>\n            <td class=\"value\">None</td>\n        </tr>\n    \n\n        <tr class=\"user-set\">\n            <td><i class=\"copy-paste-icon\"\n                 onclick=\"copyToClipboard('max_cat_to_onehot',\n                          this.parentElement.nextElementSibling)\"\n            ></i></td>\n            <td class=\"param\">max_cat_to_onehot&nbsp;</td>\n            <td class=\"value\">None</td>\n        </tr>\n    \n\n        <tr class=\"user-set\">\n            <td><i class=\"copy-paste-icon\"\n                 onclick=\"copyToClipboard('max_delta_step',\n                          this.parentElement.nextElementSibling)\"\n            ></i></td>\n            <td class=\"param\">max_delta_step&nbsp;</td>\n            <td class=\"value\">None</td>\n        </tr>\n    \n\n        <tr class=\"user-set\">\n            <td><i class=\"copy-paste-icon\"\n                 onclick=\"copyToClipboard('max_depth',\n                          this.parentElement.nextElementSibling)\"\n            ></i></td>\n            <td class=\"param\">max_depth&nbsp;</td>\n            <td class=\"value\">10</td>\n        </tr>\n    \n\n        <tr class=\"user-set\">\n            <td><i class=\"copy-paste-icon\"\n                 onclick=\"copyToClipboard('max_leaves',\n                          this.parentElement.nextElementSibling)\"\n            ></i></td>\n            <td class=\"param\">max_leaves&nbsp;</td>\n            <td class=\"value\">None</td>\n        </tr>\n    \n\n        <tr class=\"user-set\">\n            <td><i class=\"copy-paste-icon\"\n                 onclick=\"copyToClipboard('min_child_weight',\n                          this.parentElement.nextElementSibling)\"\n            ></i></td>\n            <td class=\"param\">min_child_weight&nbsp;</td>\n            <td class=\"value\">None</td>\n        </tr>\n    \n\n        <tr class=\"user-set\">\n            <td><i class=\"copy-paste-icon\"\n                 onclick=\"copyToClipboard('missing',\n                          this.parentElement.nextElementSibling)\"\n            ></i></td>\n            <td class=\"param\">missing&nbsp;</td>\n            <td class=\"value\">nan</td>\n        </tr>\n    \n\n        <tr class=\"user-set\">\n            <td><i class=\"copy-paste-icon\"\n                 onclick=\"copyToClipboard('monotone_constraints',\n                          this.parentElement.nextElementSibling)\"\n            ></i></td>\n            <td class=\"param\">monotone_constraints&nbsp;</td>\n            <td class=\"value\">None</td>\n        </tr>\n    \n\n        <tr class=\"user-set\">\n            <td><i class=\"copy-paste-icon\"\n                 onclick=\"copyToClipboard('multi_strategy',\n                          this.parentElement.nextElementSibling)\"\n            ></i></td>\n            <td class=\"param\">multi_strategy&nbsp;</td>\n            <td class=\"value\">None</td>\n        </tr>\n    \n\n        <tr class=\"user-set\">\n            <td><i class=\"copy-paste-icon\"\n                 onclick=\"copyToClipboard('n_estimators',\n                          this.parentElement.nextElementSibling)\"\n            ></i></td>\n            <td class=\"param\">n_estimators&nbsp;</td>\n            <td class=\"value\">1000</td>\n        </tr>\n    \n\n        <tr class=\"user-set\">\n            <td><i class=\"copy-paste-icon\"\n                 onclick=\"copyToClipboard('n_jobs',\n                          this.parentElement.nextElementSibling)\"\n            ></i></td>\n            <td class=\"param\">n_jobs&nbsp;</td>\n            <td class=\"value\">None</td>\n        </tr>\n    \n\n        <tr class=\"user-set\">\n            <td><i class=\"copy-paste-icon\"\n                 onclick=\"copyToClipboard('num_parallel_tree',\n                          this.parentElement.nextElementSibling)\"\n            ></i></td>\n            <td class=\"param\">num_parallel_tree&nbsp;</td>\n            <td class=\"value\">None</td>\n        </tr>\n    \n\n        <tr class=\"user-set\">\n            <td><i class=\"copy-paste-icon\"\n                 onclick=\"copyToClipboard('random_state',\n                          this.parentElement.nextElementSibling)\"\n            ></i></td>\n            <td class=\"param\">random_state&nbsp;</td>\n            <td class=\"value\">None</td>\n        </tr>\n    \n\n        <tr class=\"user-set\">\n            <td><i class=\"copy-paste-icon\"\n                 onclick=\"copyToClipboard('reg_alpha',\n                          this.parentElement.nextElementSibling)\"\n            ></i></td>\n            <td class=\"param\">reg_alpha&nbsp;</td>\n            <td class=\"value\">None</td>\n        </tr>\n    \n\n        <tr class=\"user-set\">\n            <td><i class=\"copy-paste-icon\"\n                 onclick=\"copyToClipboard('reg_lambda',\n                          this.parentElement.nextElementSibling)\"\n            ></i></td>\n            <td class=\"param\">reg_lambda&nbsp;</td>\n            <td class=\"value\">None</td>\n        </tr>\n    \n\n        <tr class=\"user-set\">\n            <td><i class=\"copy-paste-icon\"\n                 onclick=\"copyToClipboard('sampling_method',\n                          this.parentElement.nextElementSibling)\"\n            ></i></td>\n            <td class=\"param\">sampling_method&nbsp;</td>\n            <td class=\"value\">None</td>\n        </tr>\n    \n\n        <tr class=\"user-set\">\n            <td><i class=\"copy-paste-icon\"\n                 onclick=\"copyToClipboard('scale_pos_weight',\n                          this.parentElement.nextElementSibling)\"\n            ></i></td>\n            <td class=\"param\">scale_pos_weight&nbsp;</td>\n            <td class=\"value\">None</td>\n        </tr>\n    \n\n        <tr class=\"user-set\">\n            <td><i class=\"copy-paste-icon\"\n                 onclick=\"copyToClipboard('subsample',\n                          this.parentElement.nextElementSibling)\"\n            ></i></td>\n            <td class=\"param\">subsample&nbsp;</td>\n            <td class=\"value\">None</td>\n        </tr>\n    \n\n        <tr class=\"user-set\">\n            <td><i class=\"copy-paste-icon\"\n                 onclick=\"copyToClipboard('tree_method',\n                          this.parentElement.nextElementSibling)\"\n            ></i></td>\n            <td class=\"param\">tree_method&nbsp;</td>\n            <td class=\"value\">None</td>\n        </tr>\n    \n\n        <tr class=\"user-set\">\n            <td><i class=\"copy-paste-icon\"\n                 onclick=\"copyToClipboard('validate_parameters',\n                          this.parentElement.nextElementSibling)\"\n            ></i></td>\n            <td class=\"param\">validate_parameters&nbsp;</td>\n            <td class=\"value\">None</td>\n        </tr>\n    \n\n        <tr class=\"user-set\">\n            <td><i class=\"copy-paste-icon\"\n                 onclick=\"copyToClipboard('verbosity',\n                          this.parentElement.nextElementSibling)\"\n            ></i></td>\n            <td class=\"param\">verbosity&nbsp;</td>\n            <td class=\"value\">None</td>\n        </tr>\n    \n                  </tbody>\n                </table>\n            </details>\n        </div>\n    </div></div></div></div></div></div></div></div></div></div><script>function copyToClipboard(text, element) {\n    // Get the parameter prefix from the closest toggleable content\n    const toggleableContent = element.closest('.sk-toggleable__content');\n    const paramPrefix = toggleableContent ? toggleableContent.dataset.paramPrefix : '';\n    const fullParamName = paramPrefix ? `${paramPrefix}${text}` : text;\n\n    const originalStyle = element.style;\n    const computedStyle = window.getComputedStyle(element);\n    const originalWidth = computedStyle.width;\n    const originalHTML = element.innerHTML.replace('Copied!', '');\n\n    navigator.clipboard.writeText(fullParamName)\n        .then(() => {\n            element.style.width = originalWidth;\n            element.style.color = 'green';\n            element.innerHTML = \"Copied!\";\n\n            setTimeout(() => {\n                element.innerHTML = originalHTML;\n                element.style = originalStyle;\n            }, 2000);\n        })\n        .catch(err => {\n            console.error('Failed to copy:', err);\n            element.style.color = 'red';\n            element.innerHTML = \"Failed!\";\n            setTimeout(() => {\n                element.innerHTML = originalHTML;\n                element.style = originalStyle;\n            }, 2000);\n        });\n    return false;\n}\n\ndocument.querySelectorAll('.fa-regular.fa-copy').forEach(function(element) {\n    const toggleableContent = element.closest('.sk-toggleable__content');\n    const paramPrefix = toggleableContent ? toggleableContent.dataset.paramPrefix : '';\n    const paramName = element.parentElement.nextElementSibling.textContent.trim();\n    const fullParamName = paramPrefix ? `${paramPrefix}${paramName}` : paramName;\n\n    element.setAttribute('title', fullParamName);\n});\n</script></body>"
     },
     "execution_count": 15,
     "metadata": {},
     "output_type": "execute_result"
    }
   ],
   "source": [
    "from sklearn.multioutput import MultiOutputRegressor\n",
    "import xgboost as xgb\n",
    "\n",
    "xgb_model = xgb.XGBRegressor(\n",
    "    n_estimators=1000,\n",
    "    max_depth=10,\n",
    "    learning_rate=0.1,\n",
    "    objective='reg:squarederror'\n",
    ")\n",
    "\n",
    "multi_model = MultiOutputRegressor(xgb_model)\n",
    "\n",
    "multi_model.fit(group_model.X_train, group_model.y_train)"
   ],
   "metadata": {
    "collapsed": false,
    "ExecuteTime": {
     "end_time": "2025-08-19T11:32:31.461122400Z",
     "start_time": "2025-08-19T11:16:45.333364900Z"
    }
   },
   "id": "3ac908ca294edf9a"
  },
  {
   "cell_type": "code",
   "execution_count": 16,
   "outputs": [
    {
     "name": "stdout",
     "output_type": "stream",
     "text": [
      "Train Error: 1.24%, Test Error: 11.11%\n"
     ]
    }
   ],
   "source": [
    "from sklearn.metrics import mean_squared_error\n",
    "import numpy as np\n",
    "y_pred_test = multi_model.predict(group_model.X_test)\n",
    "y_pred_train = multi_model.predict(group_model.X_train)\n",
    "y_pred_test_actual = group_model.scaler_y.inverse_transform(y_pred_test).ravel()\n",
    "y_pred_train_actual = group_model.scaler_y.inverse_transform(y_pred_train).ravel()\n",
    "y_test_actual = group_model.scaler_y.inverse_transform(group_model.y_test).ravel()\n",
    "y_train_actual = group_model.scaler_y.inverse_transform(group_model.y_train).ravel()\n",
    "\n",
    "rmse_test_actual = (mean_squared_error(y_test_actual, y_pred_test_actual) ** 0.5 / np.mean(y_test_actual)) * 100\n",
    "rmse_train_actual = (mean_squared_error(y_train_actual, y_pred_train_actual) ** 0.5 / np.mean(y_train_actual)) * 100\n",
    "\n",
    "print(f\"Train Error: {rmse_train_actual:0.2f}%, Test Error: {rmse_test_actual:0.2f}%\")\n"
   ],
   "metadata": {
    "collapsed": false,
    "ExecuteTime": {
     "end_time": "2025-08-19T11:34:44.240793400Z",
     "start_time": "2025-08-19T11:34:38.432317100Z"
    }
   },
   "id": "53b6734350cd6e95"
  },
  {
   "cell_type": "code",
   "execution_count": 81,
   "outputs": [
    {
     "name": "stderr",
     "output_type": "stream",
     "text": [
      "\u001B[32m2025-08-20 16:16:24\u001B[0m - \u001B[34mjas_test\u001B[0m - \u001B[1;30mINFO\u001B[0m - Csv file has bean read successfully\n",
      "\u001B[32m2025-08-20 16:16:26\u001B[0m - \u001B[34mjas_test\u001B[0m - \u001B[1;30mINFO\u001B[0m - Some features have been added successfully\n",
      "\u001B[32m2025-08-20 16:16:26\u001B[0m - \u001B[34mjas_test\u001B[0m - \u001B[1;30mINFO\u001B[0m - Rows have been selected successfully\n",
      "\u001B[32m2025-08-20 16:16:27\u001B[0m - \u001B[34mjas_test\u001B[0m - \u001B[1;30mINFO\u001B[0m - Some features have been dropped successfully\n"
     ]
    }
   ],
   "source": [
    "import os\n",
    "import pandas as pd\n",
    "from prophet import Prophet\n",
    "from data_selector import Data_selector\n",
    "from feature_modifier import Feature_selector, Feature_adder\n",
    "from logs.logger import CustomLogger\n",
    "\n",
    "project_root = \"U:/ML_project/bargh\"\n",
    "\n",
    "logger = CustomLogger(name=\"jas_test\", log_file_name='jas_tes.log').get_logger()\n",
    "\n",
    "csv_path = os.path.join(project_root, \"data\", \"processed\", \"integrated.csv\")\n",
    "df = pd.read_csv(csv_path, encoding='utf-8')\n",
    "df['date'] = pd.to_datetime(df['date'])\n",
    "df['ds'] = df['date'] + pd.to_timedelta(df['hour'], unit='h')\n",
    "df = df.rename(columns={\"generation\": \"y\"})\n",
    "logger.info(f\"Csv file has bean read successfully\")\n",
    "\n",
    "feature_adder = Feature_adder(df)\n",
    "feature_adder.add_season()\n",
    "feature_adder.create_feature_with_delay(\"temperature\", 3)\n",
    "feature_adder.create_feature_with_delay(\"y\", 24)\n",
    "logger.info(f\"Some features have been added successfully\")\n",
    "\n",
    "data_selector = Data_selector(feature_adder.df)\n",
    "data_selector.select_name_and_code(\"سبلان\", \"G11\")\n",
    "df_modified = data_selector.select_peaks(m_in_summer=True)\n",
    "logger.info(f\"Rows have been selected successfully\")\n",
    "\n",
    "feature_selector = Feature_selector(df_modified, target=\"y\")\n",
    "feature_to_be_dropped = ['id', 'date', 'declare', 'require']\n",
    "less_important_feature = ['dew', 'apparent_temperature', 'precipitation', 'rain', 'snow',\n",
    "                          'evapotransporation', 'wind_speed', 'wind_direction']\n",
    "\n",
    "feature_selector.select(feature_to_be_dropped + less_important_feature)\n",
    "preprocessed_df = feature_selector.df\n",
    "logger.info(f\"Some features have been dropped successfully\")\n"
   ],
   "metadata": {
    "collapsed": false,
    "ExecuteTime": {
     "end_time": "2025-08-20T12:46:27.009780100Z",
     "start_time": "2025-08-20T12:46:20.701559100Z"
    }
   },
   "id": "73e0e20cf0de76f0"
  },
  {
   "cell_type": "code",
   "execution_count": 82,
   "outputs": [
    {
     "data": {
      "text/plain": "(9317, 14)"
     },
     "execution_count": 82,
     "metadata": {},
     "output_type": "execute_result"
    }
   ],
   "source": [
    "preprocessed_df.shape\n"
   ],
   "metadata": {
    "collapsed": false,
    "ExecuteTime": {
     "end_time": "2025-08-20T12:46:27.011945700Z",
     "start_time": "2025-08-20T12:46:27.006818300Z"
    }
   },
   "id": "bb721687086ed021"
  },
  {
   "cell_type": "code",
   "execution_count": 83,
   "outputs": [
    {
     "data": {
      "text/plain": "      hour  temperature  humidity  surface_pressure  forecast           y  \\\n4417    21       11.009      64.0         853.39557     33207  100.522573   \n4418    22       10.209      69.0         852.58790     33002   97.539882   \n5968    21       10.209      46.0         851.05646     33967  117.904768   \n5969    22        8.909      50.0         851.28270     33807  118.250199   \n7124    21        6.109      50.0         858.74760     34647  116.642298   \n\n                      ds  temperature_with_3_delay  y_with_24_delay  value_P  \\\n4417 2021-03-23 21:00:00                    12.509       105.672519     True   \n4418 2021-03-23 22:00:00                    11.609       121.244953     True   \n5968 2021-03-24 21:00:00                    12.709       100.522573     True   \n5969 2021-03-24 22:00:00                    11.509        97.539882     True   \n7124 2021-03-25 21:00:00                     8.309       117.904768     True   \n\n      status_SO  season_spring  season_summer  season_winter  \n4417       True           True          False          False  \n4418       True           True          False          False  \n5968       True           True          False          False  \n5969       True           True          False          False  \n7124       True           True          False          False  ",
      "text/html": "<div>\n<style scoped>\n    .dataframe tbody tr th:only-of-type {\n        vertical-align: middle;\n    }\n\n    .dataframe tbody tr th {\n        vertical-align: top;\n    }\n\n    .dataframe thead th {\n        text-align: right;\n    }\n</style>\n<table border=\"1\" class=\"dataframe\">\n  <thead>\n    <tr style=\"text-align: right;\">\n      <th></th>\n      <th>hour</th>\n      <th>temperature</th>\n      <th>humidity</th>\n      <th>surface_pressure</th>\n      <th>forecast</th>\n      <th>y</th>\n      <th>ds</th>\n      <th>temperature_with_3_delay</th>\n      <th>y_with_24_delay</th>\n      <th>value_P</th>\n      <th>status_SO</th>\n      <th>season_spring</th>\n      <th>season_summer</th>\n      <th>season_winter</th>\n    </tr>\n  </thead>\n  <tbody>\n    <tr>\n      <th>4417</th>\n      <td>21</td>\n      <td>11.009</td>\n      <td>64.0</td>\n      <td>853.39557</td>\n      <td>33207</td>\n      <td>100.522573</td>\n      <td>2021-03-23 21:00:00</td>\n      <td>12.509</td>\n      <td>105.672519</td>\n      <td>True</td>\n      <td>True</td>\n      <td>True</td>\n      <td>False</td>\n      <td>False</td>\n    </tr>\n    <tr>\n      <th>4418</th>\n      <td>22</td>\n      <td>10.209</td>\n      <td>69.0</td>\n      <td>852.58790</td>\n      <td>33002</td>\n      <td>97.539882</td>\n      <td>2021-03-23 22:00:00</td>\n      <td>11.609</td>\n      <td>121.244953</td>\n      <td>True</td>\n      <td>True</td>\n      <td>True</td>\n      <td>False</td>\n      <td>False</td>\n    </tr>\n    <tr>\n      <th>5968</th>\n      <td>21</td>\n      <td>10.209</td>\n      <td>46.0</td>\n      <td>851.05646</td>\n      <td>33967</td>\n      <td>117.904768</td>\n      <td>2021-03-24 21:00:00</td>\n      <td>12.709</td>\n      <td>100.522573</td>\n      <td>True</td>\n      <td>True</td>\n      <td>True</td>\n      <td>False</td>\n      <td>False</td>\n    </tr>\n    <tr>\n      <th>5969</th>\n      <td>22</td>\n      <td>8.909</td>\n      <td>50.0</td>\n      <td>851.28270</td>\n      <td>33807</td>\n      <td>118.250199</td>\n      <td>2021-03-24 22:00:00</td>\n      <td>11.509</td>\n      <td>97.539882</td>\n      <td>True</td>\n      <td>True</td>\n      <td>True</td>\n      <td>False</td>\n      <td>False</td>\n    </tr>\n    <tr>\n      <th>7124</th>\n      <td>21</td>\n      <td>6.109</td>\n      <td>50.0</td>\n      <td>858.74760</td>\n      <td>34647</td>\n      <td>116.642298</td>\n      <td>2021-03-25 21:00:00</td>\n      <td>8.309</td>\n      <td>117.904768</td>\n      <td>True</td>\n      <td>True</td>\n      <td>True</td>\n      <td>False</td>\n      <td>False</td>\n    </tr>\n  </tbody>\n</table>\n</div>"
     },
     "execution_count": 83,
     "metadata": {},
     "output_type": "execute_result"
    }
   ],
   "source": [
    "preprocessed_df.head()"
   ],
   "metadata": {
    "collapsed": false,
    "ExecuteTime": {
     "end_time": "2025-08-20T12:46:28.066186700Z",
     "start_time": "2025-08-20T12:46:28.040818700Z"
    }
   },
   "id": "c37fad5aa6541408"
  },
  {
   "cell_type": "code",
   "execution_count": 84,
   "outputs": [
    {
     "data": {
      "text/plain": "Index(['hour', 'temperature', 'humidity', 'surface_pressure', 'forecast', 'y',\n       'ds', 'temperature_with_3_delay', 'y_with_24_delay', 'value_P',\n       'status_SO', 'season_spring', 'season_summer', 'season_winter'],\n      dtype='object')"
     },
     "execution_count": 84,
     "metadata": {},
     "output_type": "execute_result"
    }
   ],
   "source": [
    "preprocessed_df.columns"
   ],
   "metadata": {
    "collapsed": false,
    "ExecuteTime": {
     "end_time": "2025-08-20T12:46:31.953183300Z",
     "start_time": "2025-08-20T12:46:31.925350800Z"
    }
   },
   "id": "d033c4b5df861316"
  },
  {
   "cell_type": "code",
   "execution_count": 85,
   "outputs": [
    {
     "name": "stderr",
     "output_type": "stream",
     "text": [
      "16:16:34 - cmdstanpy - INFO - Chain [1] start processing\n",
      "16:16:40 - cmdstanpy - INFO - Chain [1] done processing\n"
     ]
    },
    {
     "data": {
      "text/plain": "<prophet.forecaster.Prophet at 0x1f1b96ed820>"
     },
     "execution_count": 85,
     "metadata": {},
     "output_type": "execute_result"
    }
   ],
   "source": [
    "train_df = preprocessed_df.iloc[:-240]\n",
    "test_df = preprocessed_df.iloc[-240:]\n",
    "\n",
    "model = Prophet()\n",
    "for col in preprocessed_df.columns:\n",
    "    if col in ['ds', 'y']: continue\n",
    "    model.add_regressor(col)\n",
    "model.fit(train_df)\n"
   ],
   "metadata": {
    "collapsed": false,
    "ExecuteTime": {
     "end_time": "2025-08-20T12:46:40.416449Z",
     "start_time": "2025-08-20T12:46:33.264337800Z"
    }
   },
   "id": "4a4e79d98c350f9d"
  },
  {
   "cell_type": "code",
   "execution_count": 86,
   "outputs": [],
   "source": [
    "future = test_df.drop(columns=['y'])\n",
    "forecast = model.predict(future)\n"
   ],
   "metadata": {
    "collapsed": false,
    "ExecuteTime": {
     "end_time": "2025-08-20T12:46:40.496215700Z",
     "start_time": "2025-08-20T12:46:40.421450200Z"
    }
   },
   "id": "8f84f432f615f7f9"
  },
  {
   "cell_type": "code",
   "execution_count": 87,
   "outputs": [
    {
     "data": {
      "text/plain": "<Figure size 1000x600 with 1 Axes>",
      "image/png": "[encoded data removed]"
     },
     "metadata": {},
     "output_type": "display_data"
    }
   ],
   "source": [
    "import matplotlib.pyplot as plt\n",
    "\n",
    "model.plot(forecast)\n",
    "plt.show()\n"
   ],
   "metadata": {
    "collapsed": false,
    "ExecuteTime": {
     "end_time": "2025-08-20T12:46:41.890950600Z",
     "start_time": "2025-08-20T12:46:41.681154100Z"
    }
   },
   "id": "f9523ddfdd853f81"
  },
  {
   "cell_type": "code",
   "execution_count": 88,
   "outputs": [],
   "source": [
    "y_true = test_df['y'].values\n",
    "y_pred = forecast['yhat'].values"
   ],
   "metadata": {
    "collapsed": false,
    "ExecuteTime": {
     "end_time": "2025-08-20T12:46:53.472156200Z",
     "start_time": "2025-08-20T12:46:53.461200900Z"
    }
   },
   "id": "7757215caa178f52"
  },
  {
   "cell_type": "code",
   "execution_count": 89,
   "outputs": [
    {
     "name": "stdout",
     "output_type": "stream",
     "text": [
      "Test Error: 10.31%\n"
     ]
    }
   ],
   "source": [
    "import numpy as np\n",
    "from sklearn.metrics import mean_squared_error\n",
    "rmse = np.sqrt(mean_squared_error(y_true, y_pred)) / np.mean(y_true) * 100\n",
    "print(f\"Test Error: {rmse:0.2f}%\")"
   ],
   "metadata": {
    "collapsed": false,
    "ExecuteTime": {
     "end_time": "2025-08-20T12:46:54.534726300Z",
     "start_time": "2025-08-20T12:46:54.522436300Z"
    }
   },
   "id": "7ed4839ecd5631b0"
  },
  {
   "cell_type": "code",
   "execution_count": null,
   "outputs": [],
   "source": [],
   "metadata": {
    "collapsed": false
   },
   "id": "52526620924be1c5"
  }
 ],
 "metadata": {
  "kernelspec": {
   "display_name": "Python 3",
   "language": "python",
   "name": "python3"
  },
  "language_info": {
   "codemirror_mode": {
    "name": "ipython",
    "version": 2
   },
   "file_extension": ".py",
   "mimetype": "text/x-python",
   "name": "python",
   "nbconvert_exporter": "python",
   "pygments_lexer": "ipython2",
   "version": "3.10.8"
  }
 },
 "nbformat": 4,
 "nbformat_minor": 5
}
