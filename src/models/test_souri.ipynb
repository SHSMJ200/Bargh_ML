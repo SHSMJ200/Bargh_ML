{
 "cells": [
  {
   "cell_type": "markdown",
   "id": "b5c6ae3f",
   "metadata": {},
   "source": [
    "IMPORT LIBRARY"
   ]
  },
  {
   "cell_type": "code",
   "execution_count": 3,
   "id": "756b96513e0197a8",
   "metadata": {
    "ExecuteTime": {
     "end_time": "2025-08-11T16:51:32.719853Z",
     "start_time": "2025-08-11T16:49:28.597647200Z"
    },
    "collapsed": false
   },
   "outputs": [
    {
     "name": "stdout",
     "output_type": "stream",
     "text": [
      "e:\\univercity\\project\\Bargh_ML\\logs\\data_selector.log\n",
      "e:\\univercity\\project\\Bargh_ML\\logs\\feature_modifier.log\n",
      "e:\\univercity\\project\\Bargh_ML\\logs\\models.log\n",
      "e:\\univercity\\project\\Bargh_ML\\logs\\model_main.log\n"
     ]
    }
   ],
   "source": [
    "import sys, os\n",
    "current_dir = os.getcwd()\n",
    "project_root = current_dir[:current_dir.find(\"src\") - 1]\n",
    "sys.path.insert(0, project_root)\n",
    "\n",
    "import pandas as pd\n",
    "from data_selector import Data_selector\n",
    "from feature_modifier import Feature_selector, Feature_adder\n",
    "from logs.logger import CustomLogger\n",
    "from models import Random_Forest, Linear\n",
    "from src.root import get_root\n",
    "\n",
    "logger = CustomLogger(name=\"model_main\", log_file_name='model_main.log').get_logger()"
   ]
  },
  {
   "cell_type": "code",
   "execution_count": 4,
   "id": "ca27f8b2",
   "metadata": {},
   "outputs": [],
   "source": [
    "def filter_time(df,date1,date2,get_bool=False):\n",
    "    if get_bool:\n",
    "        return (df['datetime'] >= date1) & (df['datetime'] <= date2)\n",
    "    return df[(df['datetime'] >= date1) & (df['datetime'] <= date2)]\n",
    "\n",
    "def filter_name_code(df,name,code,get_bool=False):\n",
    "    if get_bool:\n",
    "        return (df[\"name\"] == name) & (df[\"code\"] == code)\n",
    "    return df[(df[\"name\"] == name) & (df[\"code\"] == code)]\n",
    "\n",
    "def get_interval(df,l_min):\n",
    "    df_s = df.reset_index(drop=True)\n",
    "    diff = df_s['datetime'].diff()  # محاسبه اختلاف زمانی بین ردیف ها\n",
    "    gap_mask = diff != pd.Timedelta(hours=1)  # هر جایی اختلاف دقیقاً 1 ساعت نیست، مرز بازه جدید است\n",
    "    # ایندکس شروع بازه‌ها\n",
    "    start_indices = df_s.index[gap_mask].tolist()\n",
    "    # چون اولین ایندکس هم ابتدای یک بازه است، اگر نیست اضافه می‌کنیم\n",
    "    if 0 not in start_indices:\n",
    "        start_indices = [0] + start_indices\n",
    "    # ایندکس پایان بازه‌ها یکی قبل از شروع بازه بعدی است\n",
    "    end_indices = [i-1 for i in start_indices[1:]] + [df_s.index[-1]]\n",
    "    \n",
    "    for i in range(len(start_indices)-1,-1,-1):\n",
    "        if end_indices[i] - start_indices[i] < l_min-1:\n",
    "            end_indices.pop(i)\n",
    "            start_indices.pop(i)\n",
    "    # ساخت لیست بازه‌های (i1, i2)\n",
    "    index_ranges = list(zip(start_indices, end_indices))\n",
    "    \n",
    "    # ساخت لیست بازه‌های زمانی (t1, t2)\n",
    "    time_ranges = [(df_s.loc[i1, 'datetime'], df_s.loc[i2, 'datetime']) for i1, i2 in index_ranges]\n",
    "    return index_ranges,time_ranges\n",
    "\n",
    "import numpy as np\n",
    "from scipy.signal import savgol_filter\n",
    "import matplotlib.pyplot as plt\n",
    "\n",
    "def is_smooth_array(data,threshold,f_show = False):\n",
    "    x = data[\"datetime\"].to_numpy()  # Your x-values\n",
    "    y = data[\"generation\"].to_numpy()  # Your y-values\n",
    "    window_length = len(y) - 1 + len(y)%2  # window size, must be odd, adjust for your data\n",
    "    \n",
    "    polyorder = 2  # polynomial order\n",
    "    y_smooth = savgol_filter(y, window_length=window_length, polyorder=polyorder)\n",
    "\n",
    "    # Compute residual noise\n",
    "    residuals = y - y_smooth\n",
    "    noise_std = np.std(residuals)\n",
    "    value = np.var(np.diff(y, n=1))#abs(y-y.mean())#residuals\n",
    "    \n",
    "    # Optional: Visualize\n",
    "    if f_show:\n",
    "        plt.plot(x, y, label='Raw data')\n",
    "        plt.plot(x, y_smooth, label='Smoothed curve')\n",
    "        plt.legend()\n",
    "        plt.show()\n",
    "\n",
    "    if noise_std < threshold:  # threshold is your chosen value for smoothness\n",
    "        return noise_std,True,value\n",
    "    else:\n",
    "        return noise_std,False,value\n",
    "\n",
    "def is_smooth(df,date1,date2,data_var,data_date,threshold,flag=False):\n",
    "    slice = filter_time(df,date1,date2)[[\"hour\",\"generation\",\"datetime\"]]\n",
    "    if len(slice[\"hour\"]) >= 8:\n",
    "        x,f,re = is_smooth_array(slice,threshold,flag)\n",
    "        if data_var != None : data_var[f].append(x)\n",
    "        if data_date != None : data_date[f].append((date1,date2))\n",
    "        if f:    \n",
    "            return 1,1\n",
    "        return 1,0\n",
    "    return 0,0\n",
    "\n",
    "def get_smooth_good_slice(df,time_ranges,threshold):\n",
    "    data_var = {True:[],False:[]}\n",
    "    data_date = {True:[],False:[]}\n",
    "    t = 0\n",
    "    n = 0\n",
    "    for date1,date2 in time_ranges:\n",
    "        nn,tt = is_smooth(df,date1,date2,data_var,data_date,threshold)\n",
    "        n += nn\n",
    "        t += tt\n",
    "    p = t/n*100 if n != 0 else None\n",
    "    return p,data_var,data_date\n",
    "\n",
    "def labeling_point(df,df_n_c,date,label):\n",
    "    for date1,date2 in date:\n",
    "        flag_array = filter_time(df_n_c,date1,date2,get_bool=True)\n",
    "        df.loc[flag_array.index[flag_array],\"is_good_pick\"] = label"
   ]
  },
  {
   "cell_type": "code",
   "execution_count": 12,
   "id": "c291a0be",
   "metadata": {},
   "outputs": [
    {
     "name": "stdout",
     "output_type": "stream",
     "text": [
      "103\n",
      "**********\n",
      "پرند S1\n",
      "0.0 0 175\n",
      "-> (array([ 4.,  5., 13., 16., 17., 18.]), array([ 75,  41,   1,   6,   1, 167], dtype=int64))\n"
     ]
    }
   ],
   "source": [
    "df_row = pd.read_csv(get_root() +\"/data/processed/integrated.csv\", encoding='utf-8')\n",
    "df_modified = df_row[[\"name\",\"code\",\"date\",\"hour\",\"status\",'value',\"generation\"]].copy(deep=True)\n",
    "\n",
    "feature_adder = Feature_adder(df_modified)\n",
    "feature_adder.add_season()\n",
    "df_modified = Data_selector(df_modified).select(m_in_summer=True)\n",
    "\n",
    "threshold = 2\n",
    "\n",
    "df_modified['datetime'] = df_modified['date'] + pd.to_timedelta(df_row['hour'], unit='h')\n",
    "\n",
    "power_plants = df_modified[['name', 'code']].drop_duplicates()\n",
    "print(len(power_plants))\n",
    "\n",
    "name = \"پرند\"\n",
    "code = \"S1\"\n",
    "\n",
    "df_name_code_smooth = filter_name_code(df_modified,name,code)\n",
    "\n",
    "index_ranges,time_ranges = get_interval(df_name_code_smooth,l_min=4)\n",
    "#print(k,\"->\",np.unique(np.array([(t2-t1).total_seconds()/3600+1 for t1,t2 in time_ranges]),return_counts=True))\n",
    "p,data_var,data_date = get_smooth_good_slice(df=df_name_code_smooth,time_ranges=time_ranges,threshold=threshold)\n",
    "print(\"**********\")\n",
    "print(name,code)\n",
    "print(p,len(data_date[True]),len(data_date[False]))\n",
    "print(\"->\",np.unique(np.array([(t2-t1).total_seconds()/3600+1 for t1,t2 in time_ranges]),return_counts=True))        "
   ]
  },
  {
   "cell_type": "code",
   "execution_count": null,
   "id": "35ccd2b0",
   "metadata": {},
   "outputs": [
    {
     "data": {
      "text/plain": [
       "207618"
      ]
     },
     "execution_count": 17,
     "metadata": {},
     "output_type": "execute_result"
    }
   ],
   "source": []
  },
  {
   "cell_type": "code",
   "execution_count": 11,
   "id": "54100d3f",
   "metadata": {},
   "outputs": [
    {
     "name": "stderr",
     "output_type": "stream",
     "text": [
      "C:\\Users\\alireza\\AppData\\Roaming\\Python\\Python310\\site-packages\\matplotlib\\axes\\_axes.py:7101: RuntimeWarning: All-NaN slice encountered\n",
      "  xmin = min(xmin, np.nanmin(xi))\n",
      "C:\\Users\\alireza\\AppData\\Roaming\\Python\\Python310\\site-packages\\matplotlib\\axes\\_axes.py:7102: RuntimeWarning: All-NaN slice encountered\n",
      "  xmax = max(xmax, np.nanmax(xi))\n"
     ]
    },
    {
     "ename": "ValueError",
     "evalue": "autodetected range of [nan, nan] is not finite",
     "output_type": "error",
     "traceback": [
      "\u001b[1;31m---------------------------------------------------------------------------\u001b[0m",
      "\u001b[1;31mValueError\u001b[0m                                Traceback (most recent call last)",
      "Cell \u001b[1;32mIn[11], line 1\u001b[0m\n\u001b[1;32m----> 1\u001b[0m \u001b[43mplt\u001b[49m\u001b[38;5;241;43m.\u001b[39;49m\u001b[43mhist\u001b[49m\u001b[43m(\u001b[49m\u001b[43mdata_var\u001b[49m\u001b[43m[\u001b[49m\u001b[38;5;28;43;01mTrue\u001b[39;49;00m\u001b[43m]\u001b[49m\u001b[38;5;241;43m+\u001b[39;49m\u001b[43mdata_var\u001b[49m\u001b[43m[\u001b[49m\u001b[38;5;28;43;01mFalse\u001b[39;49;00m\u001b[43m]\u001b[49m\u001b[43m,\u001b[49m\u001b[43m \u001b[49m\u001b[43mbins\u001b[49m\u001b[38;5;241;43m=\u001b[39;49m\u001b[38;5;241;43m40\u001b[39;49m\u001b[43m,\u001b[49m\u001b[43m \u001b[49m\u001b[43mcolor\u001b[49m\u001b[38;5;241;43m=\u001b[39;49m\u001b[38;5;124;43m'\u001b[39;49m\u001b[38;5;124;43mskyblue\u001b[39;49m\u001b[38;5;124;43m'\u001b[39;49m\u001b[43m,\u001b[49m\u001b[43m \u001b[49m\u001b[43medgecolor\u001b[49m\u001b[38;5;241;43m=\u001b[39;49m\u001b[38;5;124;43m'\u001b[39;49m\u001b[38;5;124;43mblack\u001b[39;49m\u001b[38;5;124;43m'\u001b[39;49m\u001b[43m)\u001b[49m\n\u001b[0;32m      2\u001b[0m plt\u001b[38;5;241m.\u001b[39mshow()\n\u001b[0;32m      3\u001b[0m plt\u001b[38;5;241m.\u001b[39mhist(data_var[\u001b[38;5;28;01mTrue\u001b[39;00m], bins\u001b[38;5;241m=\u001b[39m\u001b[38;5;241m40\u001b[39m, color\u001b[38;5;241m=\u001b[39m\u001b[38;5;124m'\u001b[39m\u001b[38;5;124mskyblue\u001b[39m\u001b[38;5;124m'\u001b[39m, edgecolor\u001b[38;5;241m=\u001b[39m\u001b[38;5;124m'\u001b[39m\u001b[38;5;124mblack\u001b[39m\u001b[38;5;124m'\u001b[39m)\n",
      "File \u001b[1;32m~\\AppData\\Roaming\\Python\\Python310\\site-packages\\matplotlib\\_api\\deprecation.py:453\u001b[0m, in \u001b[0;36mmake_keyword_only.<locals>.wrapper\u001b[1;34m(*args, **kwargs)\u001b[0m\n\u001b[0;32m    447\u001b[0m \u001b[38;5;28;01mif\u001b[39;00m \u001b[38;5;28mlen\u001b[39m(args) \u001b[38;5;241m>\u001b[39m name_idx:\n\u001b[0;32m    448\u001b[0m     warn_deprecated(\n\u001b[0;32m    449\u001b[0m         since, message\u001b[38;5;241m=\u001b[39m\u001b[38;5;124m\"\u001b[39m\u001b[38;5;124mPassing the \u001b[39m\u001b[38;5;132;01m%(name)s\u001b[39;00m\u001b[38;5;124m \u001b[39m\u001b[38;5;132;01m%(obj_type)s\u001b[39;00m\u001b[38;5;124m \u001b[39m\u001b[38;5;124m\"\u001b[39m\n\u001b[0;32m    450\u001b[0m         \u001b[38;5;124m\"\u001b[39m\u001b[38;5;124mpositionally is deprecated since Matplotlib \u001b[39m\u001b[38;5;132;01m%(since)s\u001b[39;00m\u001b[38;5;124m; the \u001b[39m\u001b[38;5;124m\"\u001b[39m\n\u001b[0;32m    451\u001b[0m         \u001b[38;5;124m\"\u001b[39m\u001b[38;5;124mparameter will become keyword-only in \u001b[39m\u001b[38;5;132;01m%(removal)s\u001b[39;00m\u001b[38;5;124m.\u001b[39m\u001b[38;5;124m\"\u001b[39m,\n\u001b[0;32m    452\u001b[0m         name\u001b[38;5;241m=\u001b[39mname, obj_type\u001b[38;5;241m=\u001b[39m\u001b[38;5;124mf\u001b[39m\u001b[38;5;124m\"\u001b[39m\u001b[38;5;124mparameter of \u001b[39m\u001b[38;5;132;01m{\u001b[39;00mfunc\u001b[38;5;241m.\u001b[39m\u001b[38;5;18m__name__\u001b[39m\u001b[38;5;132;01m}\u001b[39;00m\u001b[38;5;124m()\u001b[39m\u001b[38;5;124m\"\u001b[39m)\n\u001b[1;32m--> 453\u001b[0m \u001b[38;5;28;01mreturn\u001b[39;00m func(\u001b[38;5;241m*\u001b[39margs, \u001b[38;5;241m*\u001b[39m\u001b[38;5;241m*\u001b[39mkwargs)\n",
      "File \u001b[1;32m~\\AppData\\Roaming\\Python\\Python310\\site-packages\\matplotlib\\pyplot.py:3478\u001b[0m, in \u001b[0;36mhist\u001b[1;34m(x, bins, range, density, weights, cumulative, bottom, histtype, align, orientation, rwidth, log, color, label, stacked, data, **kwargs)\u001b[0m\n\u001b[0;32m   3453\u001b[0m \u001b[38;5;129m@_copy_docstring_and_deprecators\u001b[39m(Axes\u001b[38;5;241m.\u001b[39mhist)\n\u001b[0;32m   3454\u001b[0m \u001b[38;5;28;01mdef\u001b[39;00m \u001b[38;5;21mhist\u001b[39m(\n\u001b[0;32m   3455\u001b[0m     x: ArrayLike \u001b[38;5;241m|\u001b[39m Sequence[ArrayLike],\n\u001b[1;32m   (...)\u001b[0m\n\u001b[0;32m   3476\u001b[0m     BarContainer \u001b[38;5;241m|\u001b[39m Polygon \u001b[38;5;241m|\u001b[39m \u001b[38;5;28mlist\u001b[39m[BarContainer \u001b[38;5;241m|\u001b[39m Polygon],\n\u001b[0;32m   3477\u001b[0m ]:\n\u001b[1;32m-> 3478\u001b[0m     \u001b[38;5;28;01mreturn\u001b[39;00m gca()\u001b[38;5;241m.\u001b[39mhist(\n\u001b[0;32m   3479\u001b[0m         x,\n\u001b[0;32m   3480\u001b[0m         bins\u001b[38;5;241m=\u001b[39mbins,\n\u001b[0;32m   3481\u001b[0m         \u001b[38;5;28mrange\u001b[39m\u001b[38;5;241m=\u001b[39m\u001b[38;5;28mrange\u001b[39m,\n\u001b[0;32m   3482\u001b[0m         density\u001b[38;5;241m=\u001b[39mdensity,\n\u001b[0;32m   3483\u001b[0m         weights\u001b[38;5;241m=\u001b[39mweights,\n\u001b[0;32m   3484\u001b[0m         cumulative\u001b[38;5;241m=\u001b[39mcumulative,\n\u001b[0;32m   3485\u001b[0m         bottom\u001b[38;5;241m=\u001b[39mbottom,\n\u001b[0;32m   3486\u001b[0m         histtype\u001b[38;5;241m=\u001b[39mhisttype,\n\u001b[0;32m   3487\u001b[0m         align\u001b[38;5;241m=\u001b[39malign,\n\u001b[0;32m   3488\u001b[0m         orientation\u001b[38;5;241m=\u001b[39morientation,\n\u001b[0;32m   3489\u001b[0m         rwidth\u001b[38;5;241m=\u001b[39mrwidth,\n\u001b[0;32m   3490\u001b[0m         log\u001b[38;5;241m=\u001b[39mlog,\n\u001b[0;32m   3491\u001b[0m         color\u001b[38;5;241m=\u001b[39mcolor,\n\u001b[0;32m   3492\u001b[0m         label\u001b[38;5;241m=\u001b[39mlabel,\n\u001b[0;32m   3493\u001b[0m         stacked\u001b[38;5;241m=\u001b[39mstacked,\n\u001b[0;32m   3494\u001b[0m         \u001b[38;5;241m*\u001b[39m\u001b[38;5;241m*\u001b[39m({\u001b[38;5;124m\"\u001b[39m\u001b[38;5;124mdata\u001b[39m\u001b[38;5;124m\"\u001b[39m: data} \u001b[38;5;28;01mif\u001b[39;00m data \u001b[38;5;129;01mis\u001b[39;00m \u001b[38;5;129;01mnot\u001b[39;00m \u001b[38;5;28;01mNone\u001b[39;00m \u001b[38;5;28;01melse\u001b[39;00m {}),\n\u001b[0;32m   3495\u001b[0m         \u001b[38;5;241m*\u001b[39m\u001b[38;5;241m*\u001b[39mkwargs,\n\u001b[0;32m   3496\u001b[0m     )\n",
      "File \u001b[1;32m~\\AppData\\Roaming\\Python\\Python310\\site-packages\\matplotlib\\_api\\deprecation.py:453\u001b[0m, in \u001b[0;36mmake_keyword_only.<locals>.wrapper\u001b[1;34m(*args, **kwargs)\u001b[0m\n\u001b[0;32m    447\u001b[0m \u001b[38;5;28;01mif\u001b[39;00m \u001b[38;5;28mlen\u001b[39m(args) \u001b[38;5;241m>\u001b[39m name_idx:\n\u001b[0;32m    448\u001b[0m     warn_deprecated(\n\u001b[0;32m    449\u001b[0m         since, message\u001b[38;5;241m=\u001b[39m\u001b[38;5;124m\"\u001b[39m\u001b[38;5;124mPassing the \u001b[39m\u001b[38;5;132;01m%(name)s\u001b[39;00m\u001b[38;5;124m \u001b[39m\u001b[38;5;132;01m%(obj_type)s\u001b[39;00m\u001b[38;5;124m \u001b[39m\u001b[38;5;124m\"\u001b[39m\n\u001b[0;32m    450\u001b[0m         \u001b[38;5;124m\"\u001b[39m\u001b[38;5;124mpositionally is deprecated since Matplotlib \u001b[39m\u001b[38;5;132;01m%(since)s\u001b[39;00m\u001b[38;5;124m; the \u001b[39m\u001b[38;5;124m\"\u001b[39m\n\u001b[0;32m    451\u001b[0m         \u001b[38;5;124m\"\u001b[39m\u001b[38;5;124mparameter will become keyword-only in \u001b[39m\u001b[38;5;132;01m%(removal)s\u001b[39;00m\u001b[38;5;124m.\u001b[39m\u001b[38;5;124m\"\u001b[39m,\n\u001b[0;32m    452\u001b[0m         name\u001b[38;5;241m=\u001b[39mname, obj_type\u001b[38;5;241m=\u001b[39m\u001b[38;5;124mf\u001b[39m\u001b[38;5;124m\"\u001b[39m\u001b[38;5;124mparameter of \u001b[39m\u001b[38;5;132;01m{\u001b[39;00mfunc\u001b[38;5;241m.\u001b[39m\u001b[38;5;18m__name__\u001b[39m\u001b[38;5;132;01m}\u001b[39;00m\u001b[38;5;124m()\u001b[39m\u001b[38;5;124m\"\u001b[39m)\n\u001b[1;32m--> 453\u001b[0m \u001b[38;5;28;01mreturn\u001b[39;00m func(\u001b[38;5;241m*\u001b[39margs, \u001b[38;5;241m*\u001b[39m\u001b[38;5;241m*\u001b[39mkwargs)\n",
      "File \u001b[1;32m~\\AppData\\Roaming\\Python\\Python310\\site-packages\\matplotlib\\__init__.py:1521\u001b[0m, in \u001b[0;36m_preprocess_data.<locals>.inner\u001b[1;34m(ax, data, *args, **kwargs)\u001b[0m\n\u001b[0;32m   1518\u001b[0m \u001b[38;5;129m@functools\u001b[39m\u001b[38;5;241m.\u001b[39mwraps(func)\n\u001b[0;32m   1519\u001b[0m \u001b[38;5;28;01mdef\u001b[39;00m \u001b[38;5;21minner\u001b[39m(ax, \u001b[38;5;241m*\u001b[39margs, data\u001b[38;5;241m=\u001b[39m\u001b[38;5;28;01mNone\u001b[39;00m, \u001b[38;5;241m*\u001b[39m\u001b[38;5;241m*\u001b[39mkwargs):\n\u001b[0;32m   1520\u001b[0m     \u001b[38;5;28;01mif\u001b[39;00m data \u001b[38;5;129;01mis\u001b[39;00m \u001b[38;5;28;01mNone\u001b[39;00m:\n\u001b[1;32m-> 1521\u001b[0m         \u001b[38;5;28;01mreturn\u001b[39;00m func(\n\u001b[0;32m   1522\u001b[0m             ax,\n\u001b[0;32m   1523\u001b[0m             \u001b[38;5;241m*\u001b[39m\u001b[38;5;28mmap\u001b[39m(cbook\u001b[38;5;241m.\u001b[39msanitize_sequence, args),\n\u001b[0;32m   1524\u001b[0m             \u001b[38;5;241m*\u001b[39m\u001b[38;5;241m*\u001b[39m{k: cbook\u001b[38;5;241m.\u001b[39msanitize_sequence(v) \u001b[38;5;28;01mfor\u001b[39;00m k, v \u001b[38;5;129;01min\u001b[39;00m kwargs\u001b[38;5;241m.\u001b[39mitems()})\n\u001b[0;32m   1526\u001b[0m     bound \u001b[38;5;241m=\u001b[39m new_sig\u001b[38;5;241m.\u001b[39mbind(ax, \u001b[38;5;241m*\u001b[39margs, \u001b[38;5;241m*\u001b[39m\u001b[38;5;241m*\u001b[39mkwargs)\n\u001b[0;32m   1527\u001b[0m     auto_label \u001b[38;5;241m=\u001b[39m (bound\u001b[38;5;241m.\u001b[39marguments\u001b[38;5;241m.\u001b[39mget(label_namer)\n\u001b[0;32m   1528\u001b[0m                   \u001b[38;5;129;01mor\u001b[39;00m bound\u001b[38;5;241m.\u001b[39mkwargs\u001b[38;5;241m.\u001b[39mget(label_namer))\n",
      "File \u001b[1;32m~\\AppData\\Roaming\\Python\\Python310\\site-packages\\matplotlib\\axes\\_axes.py:7129\u001b[0m, in \u001b[0;36mAxes.hist\u001b[1;34m(self, x, bins, range, density, weights, cumulative, bottom, histtype, align, orientation, rwidth, log, color, label, stacked, **kwargs)\u001b[0m\n\u001b[0;32m   7125\u001b[0m \u001b[38;5;66;03m# Loop through datasets\u001b[39;00m\n\u001b[0;32m   7126\u001b[0m \u001b[38;5;28;01mfor\u001b[39;00m i \u001b[38;5;129;01min\u001b[39;00m \u001b[38;5;28mrange\u001b[39m(nx):\n\u001b[0;32m   7127\u001b[0m     \u001b[38;5;66;03m# this will automatically overwrite bins,\u001b[39;00m\n\u001b[0;32m   7128\u001b[0m     \u001b[38;5;66;03m# so that each histogram uses the same bins\u001b[39;00m\n\u001b[1;32m-> 7129\u001b[0m     m, bins \u001b[38;5;241m=\u001b[39m np\u001b[38;5;241m.\u001b[39mhistogram(x[i], bins, weights\u001b[38;5;241m=\u001b[39mw[i], \u001b[38;5;241m*\u001b[39m\u001b[38;5;241m*\u001b[39mhist_kwargs)\n\u001b[0;32m   7130\u001b[0m     tops\u001b[38;5;241m.\u001b[39mappend(m)\n\u001b[0;32m   7131\u001b[0m tops \u001b[38;5;241m=\u001b[39m np\u001b[38;5;241m.\u001b[39marray(tops, \u001b[38;5;28mfloat\u001b[39m)  \u001b[38;5;66;03m# causes problems later if it's an int\u001b[39;00m\n",
      "File \u001b[1;32m~\\AppData\\Roaming\\Python\\Python310\\site-packages\\numpy\\lib\\histograms.py:780\u001b[0m, in \u001b[0;36mhistogram\u001b[1;34m(a, bins, range, density, weights)\u001b[0m\n\u001b[0;32m    680\u001b[0m \u001b[38;5;250m\u001b[39m\u001b[38;5;124mr\u001b[39m\u001b[38;5;124;03m\"\"\"\u001b[39;00m\n\u001b[0;32m    681\u001b[0m \u001b[38;5;124;03mCompute the histogram of a dataset.\u001b[39;00m\n\u001b[0;32m    682\u001b[0m \n\u001b[1;32m   (...)\u001b[0m\n\u001b[0;32m    776\u001b[0m \n\u001b[0;32m    777\u001b[0m \u001b[38;5;124;03m\"\"\"\u001b[39;00m\n\u001b[0;32m    778\u001b[0m a, weights \u001b[38;5;241m=\u001b[39m _ravel_and_check_weights(a, weights)\n\u001b[1;32m--> 780\u001b[0m bin_edges, uniform_bins \u001b[38;5;241m=\u001b[39m \u001b[43m_get_bin_edges\u001b[49m\u001b[43m(\u001b[49m\u001b[43ma\u001b[49m\u001b[43m,\u001b[49m\u001b[43m \u001b[49m\u001b[43mbins\u001b[49m\u001b[43m,\u001b[49m\u001b[43m \u001b[49m\u001b[38;5;28;43mrange\u001b[39;49m\u001b[43m,\u001b[49m\u001b[43m \u001b[49m\u001b[43mweights\u001b[49m\u001b[43m)\u001b[49m\n\u001b[0;32m    782\u001b[0m \u001b[38;5;66;03m# Histogram is an integer or a float array depending on the weights.\u001b[39;00m\n\u001b[0;32m    783\u001b[0m \u001b[38;5;28;01mif\u001b[39;00m weights \u001b[38;5;129;01mis\u001b[39;00m \u001b[38;5;28;01mNone\u001b[39;00m:\n",
      "File \u001b[1;32m~\\AppData\\Roaming\\Python\\Python310\\site-packages\\numpy\\lib\\histograms.py:426\u001b[0m, in \u001b[0;36m_get_bin_edges\u001b[1;34m(a, bins, range, weights)\u001b[0m\n\u001b[0;32m    423\u001b[0m     \u001b[38;5;28;01mif\u001b[39;00m n_equal_bins \u001b[38;5;241m<\u001b[39m \u001b[38;5;241m1\u001b[39m:\n\u001b[0;32m    424\u001b[0m         \u001b[38;5;28;01mraise\u001b[39;00m \u001b[38;5;167;01mValueError\u001b[39;00m(\u001b[38;5;124m'\u001b[39m\u001b[38;5;124m`bins` must be positive, when an integer\u001b[39m\u001b[38;5;124m'\u001b[39m)\n\u001b[1;32m--> 426\u001b[0m     first_edge, last_edge \u001b[38;5;241m=\u001b[39m \u001b[43m_get_outer_edges\u001b[49m\u001b[43m(\u001b[49m\u001b[43ma\u001b[49m\u001b[43m,\u001b[49m\u001b[43m \u001b[49m\u001b[38;5;28;43mrange\u001b[39;49m\u001b[43m)\u001b[49m\n\u001b[0;32m    428\u001b[0m \u001b[38;5;28;01melif\u001b[39;00m np\u001b[38;5;241m.\u001b[39mndim(bins) \u001b[38;5;241m==\u001b[39m \u001b[38;5;241m1\u001b[39m:\n\u001b[0;32m    429\u001b[0m     bin_edges \u001b[38;5;241m=\u001b[39m np\u001b[38;5;241m.\u001b[39masarray(bins)\n",
      "File \u001b[1;32m~\\AppData\\Roaming\\Python\\Python310\\site-packages\\numpy\\lib\\histograms.py:323\u001b[0m, in \u001b[0;36m_get_outer_edges\u001b[1;34m(a, range)\u001b[0m\n\u001b[0;32m    321\u001b[0m     first_edge, last_edge \u001b[38;5;241m=\u001b[39m a\u001b[38;5;241m.\u001b[39mmin(), a\u001b[38;5;241m.\u001b[39mmax()\n\u001b[0;32m    322\u001b[0m     \u001b[38;5;28;01mif\u001b[39;00m \u001b[38;5;129;01mnot\u001b[39;00m (np\u001b[38;5;241m.\u001b[39misfinite(first_edge) \u001b[38;5;129;01mand\u001b[39;00m np\u001b[38;5;241m.\u001b[39misfinite(last_edge)):\n\u001b[1;32m--> 323\u001b[0m         \u001b[38;5;28;01mraise\u001b[39;00m \u001b[38;5;167;01mValueError\u001b[39;00m(\n\u001b[0;32m    324\u001b[0m             \u001b[38;5;124m\"\u001b[39m\u001b[38;5;124mautodetected range of [\u001b[39m\u001b[38;5;132;01m{}\u001b[39;00m\u001b[38;5;124m, \u001b[39m\u001b[38;5;132;01m{}\u001b[39;00m\u001b[38;5;124m] is not finite\u001b[39m\u001b[38;5;124m\"\u001b[39m\u001b[38;5;241m.\u001b[39mformat(first_edge, last_edge))\n\u001b[0;32m    326\u001b[0m \u001b[38;5;66;03m# expand empty range to avoid divide by zero\u001b[39;00m\n\u001b[0;32m    327\u001b[0m \u001b[38;5;28;01mif\u001b[39;00m first_edge \u001b[38;5;241m==\u001b[39m last_edge:\n",
      "\u001b[1;31mValueError\u001b[0m: autodetected range of [nan, nan] is not finite"
     ]
    },
    {
     "data": {
      "image/png": "[encoded data removed]",
      "text/plain": [
       "<Figure size 640x480 with 1 Axes>"
      ]
     },
     "metadata": {},
     "output_type": "display_data"
    }
   ],
   "source": [
    "plt.hist(data_var[True]+data_var[False], bins=40, color='skyblue', edgecolor='black')\n",
    "plt.show()\n",
    "plt.hist(data_var[True], bins=40, color='skyblue', edgecolor='black')\n",
    "plt.show()\n",
    "plt.hist(data_var[False], bins=40, color='skyblue', edgecolor='black')\n",
    "plt.show()"
   ]
  },
  {
   "cell_type": "code",
   "execution_count": 117,
   "id": "9cd6090c",
   "metadata": {},
   "outputs": [
    {
     "name": "stdout",
     "output_type": "stream",
     "text": [
      "6364\n"
     ]
    }
   ],
   "source": [
    "print(np.count_nonzero(df_only[\"is_good_pick\"].to_numpy() == 2))"
   ]
  },
  {
   "cell_type": "code",
   "execution_count": 118,
   "id": "389f7aa4",
   "metadata": {},
   "outputs": [
    {
     "name": "stdout",
     "output_type": "stream",
     "text": [
      "13 354\n",
      "6364.0\n",
      "234.0\n"
     ]
    }
   ],
   "source": [
    "print(len(data_date[False]),len(data_date[True]))\n",
    "print(sum((m2-m1).total_seconds()/3600+1 for (m1,m2) in data_date[True]))\n",
    "print(sum((m2-m1).total_seconds()/3600+1 for (m1,m2) in data_date[False]))"
   ]
  },
  {
   "cell_type": "code",
   "execution_count": 119,
   "id": "881a46c5",
   "metadata": {},
   "outputs": [],
   "source": [
    "df_only.to_csv(path_or_buf=get_root() +'/data/processed/prediction_only.csv', sep=',', header=True, index=False,na_rep='NULL')"
   ]
  },
  {
   "cell_type": "markdown",
   "id": "0d22a929",
   "metadata": {},
   "source": [
    "RUN MODEL"
   ]
  },
  {
   "cell_type": "code",
   "execution_count": 133,
   "id": "6e31805c",
   "metadata": {},
   "outputs": [
    {
     "name": "stderr",
     "output_type": "stream",
     "text": [
      "\u001b[32m2025-08-18 16:07:08\u001b[0m - \u001b[34mmodel_main\u001b[0m - \u001b[1;30mINFO\u001b[0m - Csv file has bean read successfully\n",
      "\u001b[32m2025-08-18 16:07:08\u001b[0m - \u001b[34mmodel_main\u001b[0m - \u001b[1;30mINFO\u001b[0m - Some features have been added successfully\n",
      "\u001b[32m2025-08-18 16:07:08\u001b[0m - \u001b[34mmodel_main\u001b[0m - \u001b[1;30mINFO\u001b[0m - Rows have been selected successfully\n",
      "e:\\univercity\\project\\Bargh_ML\\src\\models\\feature_modifier.py:15: SettingWithCopyWarning: \n",
      "A value is trying to be set on a copy of a slice from a DataFrame\n",
      "\n",
      "See the caveats in the documentation: https://pandas.pydata.org/pandas-docs/stable/user_guide/indexing.html#returning-a-view-versus-a-copy\n",
      "  if features_to_drop is not None:\n",
      "\u001b[32m2025-08-18 16:07:08\u001b[0m - \u001b[34mmodel_main\u001b[0m - \u001b[1;30mINFO\u001b[0m - Some features have been dropped successfully\n"
     ]
    }
   ],
   "source": [
    "import sys, os\n",
    "current_dir = os.getcwd()\n",
    "project_root = current_dir[:current_dir.find(\"src\") - 1]\n",
    "sys.path.insert(0, project_root)\n",
    "\n",
    "import pandas as pd\n",
    "from data_selector import Data_selector\n",
    "from feature_modifier import Feature_selector, Feature_adder\n",
    "from logs.logger import CustomLogger\n",
    "from src.models.models import Random_Forest, Linear, Polynomial, XGBoost\n",
    "\n",
    "logger = CustomLogger(name=\"model_main\", log_file_name='model_main.log').get_logger()\n",
    "\n",
    "csv_path = os.path.join(project_root, \"data\", \"processed\", \"prediction_only.csv\")\n",
    "df = pd.read_csv(csv_path, encoding='utf-8')\n",
    "df = filter_name_code(df,\"پرند\",\"G11\")\n",
    "#print()\n",
    "df = df.drop(columns=['name','code'],axis=1)\n",
    "logger.info(f\"Csv file has bean read successfully\")\n",
    "\n",
    "feature_adder = Feature_adder(df)\n",
    "feature_adder.add_season()\n",
    "# feature_adder.create_feature_with_delay(\"temperature\", 1)\n",
    "# feature_adder.create_feature_with_delay(\"temperature\", 2)\n",
    "# feature_adder.create_feature_with_delay(\"temperature\", 3)\n",
    "logger.info(f\"Some features have been added successfully\")\n",
    "\n",
    "df_modified = df[df[\"is_good_pick\"] == 2]\n",
    "logger.info(f\"Rows have been selected successfully\")\n",
    "\n",
    "feature_selector = Feature_selector(df_modified, \"generation\")\n",
    "feature_to_be_dropped = ['id', 'date', 'declare', 'require', 'dew', 'apparent_temperature', 'rain', 'snow',\n",
    "                            'evapotransporation', 'wind_direction']\n",
    "\n",
    "\n",
    "X, y = feature_selector.select(feature_to_be_dropped)\n",
    "logger.info(f\"Some features have been dropped successfully\")"
   ]
  },
  {
   "cell_type": "code",
   "execution_count": null,
   "id": "f366878a",
   "metadata": {},
   "outputs": [
    {
     "name": "stdout",
     "output_type": "stream",
     "text": [
      "depth 1 Train Error: 3.23% Test Error: 3.36%\n",
      "depth 2 Train Error: 2.95% Test Error: 3.05%\n",
      "depth 3 Train Error: 2.76% Test Error: 2.86%\n"
     ]
    }
   ],
   "source": [
    "n_est = 40 # 40\n",
    "depth = 100 # 22\n",
    "model = Random_Forest()\n",
    "model.scale_and_split_data(X, y)\n",
    "\n",
    "train_err = []\n",
    "test_err = []\n",
    "for i in range(1,depth+1): \n",
    "    model.fit(n_estimators=n_est, max_depth=i)\n",
    "    mse_train_actual, mse_test_actual = model.compute_mse_error()\n",
    "    print(\"depth\",i,f\"Train Error: {mse_train_actual:0.2f}%\",f\"Test Error: {mse_test_actual:0.2f}%\")\n",
    "    train_err.append(mse_train_actual)\n",
    "    test_err.append(mse_test_actual)\n"
   ]
  },
  {
   "cell_type": "code",
   "execution_count": null,
   "id": "57dcfa24",
   "metadata": {},
   "outputs": [
    {
     "data": {
      "text/plain": [
       "Index(['id', 'name', 'code', 'date', 'hour', 'temperature', 'humidity', 'dew',\n",
       "       'apparent_temperature', 'precipitation', 'rain', 'snow',\n",
       "       'surface_pressure', 'evapotransporation', 'wind_speed',\n",
       "       'wind_direction', 'value', 'forecast', 'generation', 'declare',\n",
       "       'status', 'require', 'datetime', 'is_good_pick', 'season'],\n",
       "      dtype='object')"
      ]
     },
     "execution_count": 97,
     "metadata": {},
     "output_type": "execute_result"
    }
   ],
   "source": [
    "df.columns"
   ]
  },
  {
   "cell_type": "markdown",
   "id": "66c0cdb3",
   "metadata": {},
   "source": [
    "Find Match"
   ]
  },
  {
   "cell_type": "code",
   "execution_count": null,
   "id": "afcf513e",
   "metadata": {},
   "outputs": [],
   "source": [
    "import matplotlib.pyplot as plt\n",
    "import numpy as np\n",
    "\n",
    "def dot_vectors(pick_df,tmep_df):\n",
    "    a1 = pick_df.to_numpy()\n",
    "    a2 = tmep_df.to_numpy()\n",
    "    lv = []\n",
    "    m1 = np.mean(a1)\n",
    "    n1 = len(a1)\n",
    "    n2 = len(a2)\n",
    "    for i in range(0,n2-n1):\n",
    "        m2 = np.mean(a2[-(i+1):-(i+n1):-1])\n",
    "        lv.append(sum(  (a1[-(k+1)]-m1)  *  (a2[-(i+k+1)]-m2) for k in range(n1)))\n",
    "    return np.array(lv)\n",
    "\n",
    "def get_dphase(df,t1s,t2s,flag=False):\n",
    "    t1 = pd.to_datetime(t1s)\n",
    "    t2 = pd.to_datetime(t2s)\n",
    "    t0 = t1 - np.timedelta64(12,'h')\n",
    "    pick_df = filter_time(df,t1,t2)[\"generation\"]\n",
    "    tmep_df = filter_time(df,t0,t2)[\"temperature\"]\n",
    "    n = len(tmep_df)-len(pick_df)\n",
    "    lv = dot_vectors(pick_df,tmep_df)\n",
    "    \n",
    "    time = np.arange(0,n)\n",
    "    if flag:\n",
    "        plt.plot(time,lv)\n",
    "        plt.show()\n",
    "    return lv\n",
    "\n",
    "def get_for_alltime(df,times_pick): \n",
    "    d_get_dphase = []\n",
    "    for s1,s2 in times_pick:\n",
    "        d_get_dphase.append(get_dphase(df,s1,s2).argmin())#(s1,s2)\n",
    "    return d_get_dphase"
   ]
  },
  {
   "cell_type": "code",
   "execution_count": null,
   "id": "d5f4b276",
   "metadata": {},
   "outputs": [],
   "source": [
    "times_pick = [(date + np.timedelta64(14,'h'),date + np.timedelta64(22,'h') ) for date in df_name_code[\"date\"].unique()]\n",
    "d_get_dphase = get_for_alltime(df_name_code,times_pick)"
   ]
  },
  {
   "cell_type": "code",
   "execution_count": null,
   "id": "1a9130b9",
   "metadata": {},
   "outputs": [
    {
     "name": "stdout",
     "output_type": "stream",
     "text": [
      "0 252\n",
      "1 160\n",
      "2 255\n",
      "3 235\n",
      "4 142\n",
      "5 72\n",
      "6 31\n",
      "7 12\n",
      "8 10\n",
      "9 19\n",
      "10 48\n",
      "11 224\n",
      "35 1\n"
     ]
    }
   ],
   "source": [
    "a,b = np.unique(np.array(d_get_dphase), return_counts=True)\n",
    "for i in range(len(a)):\n",
    "   print(a[i],b[i])"
   ]
  },
  {
   "cell_type": "code",
   "execution_count": null,
   "id": "52eacc98",
   "metadata": {},
   "outputs": [],
   "source": []
  }
 ],
 "metadata": {
  "kernelspec": {
   "display_name": "Python 3",
   "language": "python",
   "name": "python3"
  },
  "language_info": {
   "codemirror_mode": {
    "name": "ipython",
    "version": 3
   },
   "file_extension": ".py",
   "mimetype": "text/x-python",
   "name": "python",
   "nbconvert_exporter": "python",
   "pygments_lexer": "ipython3",
   "version": "3.10.8"
  }
 },
 "nbformat": 4,
 "nbformat_minor": 5
}
